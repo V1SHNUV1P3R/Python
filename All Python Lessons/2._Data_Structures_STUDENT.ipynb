{
 "cells": [
  {
   "cell_type": "markdown",
   "metadata": {},
   "source": [
    "# Data Structures\n",
    "* data structures are different ways of storing a data set\n",
    "  *\n",
    "  *\n",
    "  *\n",
    "\n",
    "\n",
    "* three data structures in this notebook:\n",
    "  *\n",
    "  *\n",
    "  *"
   ]
  },
  {
   "cell_type": "markdown",
   "metadata": {},
   "source": [
    "## Lists (ordered collection) [ ]"
   ]
  },
  {
   "cell_type": "code",
   "execution_count": 8,
   "metadata": {},
   "outputs": [
    {
     "name": "stdout",
     "output_type": "stream",
     "text": [
      "['pink', 'blue', 'orange', 'yellow']\n"
     ]
    }
   ],
   "source": [
    "# Create a list of colors\n",
    "# Similar to arrays from JavaScript\n",
    "colors = [\"pink\", \"blue\", \"orange\", \"yellow\"]\n",
    "print(colors)"
   ]
  },
  {
   "cell_type": "code",
   "execution_count": 9,
   "metadata": {},
   "outputs": [
    {
     "name": "stdout",
     "output_type": "stream",
     "text": [
      "['pink', 'blue', 'orange', 'yellow', 'purple']\n"
     ]
    }
   ],
   "source": [
    "# Add a single element to the list  \n",
    "# (using the 'append' method for the 'list' class)\n",
    "colors.append(\"purple\")\n",
    "print(colors)"
   ]
  },
  {
   "cell_type": "code",
   "execution_count": 10,
   "metadata": {},
   "outputs": [
    {
     "name": "stdout",
     "output_type": "stream",
     "text": [
      "['pink', 'blue', 'orange', 'yellow', 'purple', 'black', 'aqua', 'green']\n"
     ]
    }
   ],
   "source": [
    "# Add multiple elements to the list\n",
    "# (using the 'extend' method for lists):\n",
    "colors.extend([\"black\",\"aqua\",\"green\"])\n",
    "print(colors)"
   ]
  },
  {
   "cell_type": "code",
   "execution_count": 11,
   "metadata": {},
   "outputs": [
    {
     "name": "stdout",
     "output_type": "stream",
     "text": [
      "8\n"
     ]
    }
   ],
   "source": [
    "# Get the length of the list:\n",
    "print(len(colors))"
   ]
  },
  {
   "cell_type": "code",
   "execution_count": 16,
   "metadata": {},
   "outputs": [
    {
     "name": "stdout",
     "output_type": "stream",
     "text": [
      "['I have 5 pairs of pink socks.', 'I have 7 pairs of blue socks.', 'I have 5 pairs of orange socks.', 'I have 8 pairs of yellow socks.', 'I have 6 pairs of purple socks.', 'I have 7 pairs of black socks.', 'I have 6 pairs of aqua socks.', 'I have 8 pairs of green socks.']\n"
     ]
    }
   ],
   "source": [
    "# loop over the list:\n",
    "sock_list = []\n",
    "import random\n",
    "\n",
    "for i in range(len(colors)):\n",
    "    #data type is \"string\"\n",
    "    sock_color = colors[i]\n",
    "    #data type is \"int\"\n",
    "    sock_quantity = random.randint(0,10)\n",
    "    #use str() method to parse sock_quantity as a string\n",
    "    sock_message = \"I have \" + str(sock_quantity) + \" pairs of \"\n",
    "    sock_message += sock_color + \" socks.\"\n",
    "    sock_list.append(sock_message)\n",
    "    \n",
    "print(sock_list)"
   ]
  },
  {
   "cell_type": "markdown",
   "metadata": {},
   "source": [
    "## Searching\n",
    "* Sytax\n",
    "    * \"item\" in \"list\"\n",
    "    * Search for this \"item\" in this \"list\"\n",
    "* Examines list one-by-one (linear)\n",
    "* Typically slow for long lists"
   ]
  },
  {
   "cell_type": "code",
   "execution_count": 17,
   "metadata": {},
   "outputs": [
    {
     "name": "stdout",
     "output_type": "stream",
     "text": [
      "True\n",
      "False\n"
     ]
    }
   ],
   "source": [
    "yellow_test = \"yellow\" in colors\n",
    "violet_test = \"violet\" in colors\n",
    "\n",
    "print(yellow_test)\n",
    "print(violet_test)"
   ]
  },
  {
   "cell_type": "markdown",
   "metadata": {},
   "source": [
    "### Slicing Lists\n",
    "  * Syntax for slicing a list named \"myList\" - myList[start, end, skip]\n",
    "    * default value for start is 0 (inclusive)\n",
    "    * default value for end is myList.length (exclusive)\n",
    "    * skip is how many elements to jump by\n",
    "      * print(myList[::2]) would print every other value from beginning to end\n",
    "      * print(myList[::-1]) would print all values backwards from end to beginning"
   ]
  },
  {
   "cell_type": "code",
   "execution_count": 18,
   "metadata": {},
   "outputs": [
    {
     "name": "stdout",
     "output_type": "stream",
     "text": [
      "['pink', 'blue', 'orange', 'yellow', 'purple', 'black', 'aqua', 'green']\n"
     ]
    }
   ],
   "source": [
    "print(colors)"
   ]
  },
  {
   "cell_type": "code",
   "execution_count": 19,
   "metadata": {},
   "outputs": [
    {
     "name": "stdout",
     "output_type": "stream",
     "text": [
      "aqua\n"
     ]
    }
   ],
   "source": [
    "# Print the element indexed at -2\n",
    "# ['pink', 'blue', 'orange', 'yellow', 'purple', 'black', 'aqua', 'green']\n",
    "# 0 > 1 > 2 > 3 > 4 > 5 > 6\n",
    "#['pink', 'blue', 'orange', 'yellow', 'purple', 'black', 'aqua', 'green']\n",
    "#   < -8    <-7     < -6      < -5      < -4      < -3    < -2     < -1\n",
    "print(colors[-2])"
   ]
  },
  {
   "cell_type": "code",
   "execution_count": 21,
   "metadata": {},
   "outputs": [
    {
     "name": "stdout",
     "output_type": "stream",
     "text": [
      "['pink', 'blue']\n",
      "['pink', 'blue']\n"
     ]
    }
   ],
   "source": [
    "# Print the elements from index 0 (inclusive) to the index 2 (exclusive)\n",
    "print(colors[:2])\n",
    "print(colors[0:2])"
   ]
  },
  {
   "cell_type": "code",
   "execution_count": 24,
   "metadata": {},
   "outputs": [
    {
     "name": "stdout",
     "output_type": "stream",
     "text": [
      "['yellow', 'purple', 'black', 'aqua', 'green']\n",
      "['yellow', 'purple', 'black', 'aqua', 'green']\n"
     ]
    }
   ],
   "source": [
    "# Print the elements from index 3 (inclusive) to the end of the list\n",
    "print(colors[3:])\n",
    "print(colors[3:])"
   ]
  },
  {
   "cell_type": "code",
   "execution_count": 27,
   "metadata": {},
   "outputs": [
    {
     "name": "stdout",
     "output_type": "stream",
     "text": [
      "['blue', 'orange', 'yellow']\n"
     ]
    }
   ],
   "source": [
    "# Print the elements from index 1 (inclusive) to index 4 (exclusive)\n",
    "print(colors[1:4])"
   ]
  },
  {
   "cell_type": "code",
   "execution_count": 28,
   "metadata": {},
   "outputs": [
    {
     "name": "stdout",
     "output_type": "stream",
     "text": [
      "['green', 'aqua', 'black', 'purple', 'yellow', 'orange', 'blue', 'pink']\n"
     ]
    }
   ],
   "source": [
    "# Print the list backwards\n",
    "print(colors[::-1])"
   ]
  },
  {
   "cell_type": "code",
   "execution_count": 29,
   "metadata": {},
   "outputs": [
    {
     "name": "stdout",
     "output_type": "stream",
     "text": [
      "<class 'list'>\n"
     ]
    }
   ],
   "source": [
    "# Check the data type\n",
    "print(type(colors))"
   ]
  },
  {
   "cell_type": "code",
   "execution_count": 30,
   "metadata": {},
   "outputs": [
    {
     "name": "stdout",
     "output_type": "stream",
     "text": [
      "dark and stormy night.\n",
      "dark and stormy night\n"
     ]
    }
   ],
   "source": [
    "# Slicing also works on Strings\n",
    "sentence = \"It was a dark and stormy night.\"\n",
    "\n",
    "# Slice out \"dark and stormy night\"\n",
    "print(sentence[9:])\n",
    "print(sentence[9:-1])\n"
   ]
  },
  {
   "cell_type": "code",
   "execution_count": 51,
   "metadata": {},
   "outputs": [
    {
     "name": "stdout",
     "output_type": "stream",
     "text": [
      "ELIZABETH\n"
     ]
    }
   ],
   "source": [
    "# Reveal the secret message in an Acrostic \n",
    "    # Hint: Look at the first letter of each line\n",
    "\n",
    "# An Acrostic by Edgar Allan Poe\n",
    "acrostic = \"\"\"Elizabeth it is in vain you say\n",
    "Love not — thou sayest it in so sweet a way:\n",
    "In vain those words from thee or L.E.L.\n",
    "Zantippe’s talents had enforced so well:\n",
    "Ah! if that language from thy heart arise,\n",
    "Breath it less gently forth — and veil thine eyes.\n",
    "Endymion, recollect, when Luna tried\n",
    "To cure his love — was cured of all beside —\n",
    "His follie — pride — and passion — for he died.\"\"\"\n",
    "\n",
    "secret_message = \"\"                # acrostic = [\"Elizabeth it is in vain you say\",\n",
    "acrostic = acrostic.split('\\n')    #             \"Love not — thou sayest it in so sweet a way:\",\n",
    "for line in acrostic:              #             \"In vain those words from thee or L.E.L.\",\n",
    "    secret_message += line[0]      #             \"Zantippe’s talents had enforced so well:\",\n",
    "                                   #              ... ] \n",
    "print(secret_message)"
   ]
  },
  {
   "cell_type": "markdown",
   "metadata": {},
   "source": [
    "## Tuples( )\n",
    "* Use ( ) or nothing, but stay consistent\n",
    "    * (a,b)   <=>   a,b\n",
    "* Similar to lists, but cannot modify them"
   ]
  },
  {
   "cell_type": "code",
   "execution_count": 52,
   "metadata": {},
   "outputs": [
    {
     "name": "stdout",
     "output_type": "stream",
     "text": [
      "50\n",
      "90\n"
     ]
    }
   ],
   "source": [
    "# Use tuples for storing/assigning multiple values in the same line\n",
    "a,b = 50,90\n",
    "\n",
    "print(a)\n",
    "print(b)"
   ]
  },
  {
   "cell_type": "code",
   "execution_count": 53,
   "metadata": {},
   "outputs": [
    {
     "name": "stdout",
     "output_type": "stream",
     "text": [
      "red\n",
      "balloon\n"
     ]
    }
   ],
   "source": [
    "# How to swap elements in Python\n",
    "# Start with variables x and y\n",
    "x,y = \"red\", \"balloon\"\n",
    "\n",
    "print(x)\n",
    "print(y)"
   ]
  },
  {
   "cell_type": "code",
   "execution_count": 54,
   "metadata": {},
   "outputs": [
    {
     "name": "stdout",
     "output_type": "stream",
     "text": [
      "balloon\n",
      "red\n"
     ]
    }
   ],
   "source": [
    "# Swap using tuples\n",
    "x,y = y,x\n",
    "print(x)\n",
    "print(y)\n",
    "# In other languages, this would take 3 lines of code and a temporary variable:\n",
    "    # temp = x\n",
    "    # x = y\n",
    "    # y = temp"
   ]
  },
  {
   "cell_type": "code",
   "execution_count": 57,
   "metadata": {},
   "outputs": [
    {
     "name": "stdout",
     "output_type": "stream",
     "text": [
      "(11, 28)\n"
     ]
    }
   ],
   "source": [
    "# Define a function that takes two numbers as parameters, and returns the tuple (sum,product) \n",
    "def sum_product(x,y):\n",
    "    s = x + y\n",
    "    p = x * y\n",
    "    return s,p\n",
    "\n",
    "sp = sum_product(4,7)\n",
    "print(sp)"
   ]
  },
  {
   "cell_type": "code",
   "execution_count": 58,
   "metadata": {},
   "outputs": [
    {
     "data": {
      "text/plain": [
       "tuple"
      ]
     },
     "execution_count": 58,
     "metadata": {},
     "output_type": "execute_result"
    }
   ],
   "source": [
    "# If you don't know what type of data you are working with, just check!\n",
    "type(sp)"
   ]
  },
  {
   "cell_type": "code",
   "execution_count": null,
   "metadata": {},
   "outputs": [],
   "source": [
    "# Assigning tuples with return values\n",
    "a,b = sum_product(4,7)\n",
    "print(a)\n",
    "print(b)"
   ]
  },
  {
   "cell_type": "code",
   "execution_count": 59,
   "metadata": {},
   "outputs": [
    {
     "name": "stdout",
     "output_type": "stream",
     "text": [
      "<class 'int'>\n",
      "<class 'int'>\n"
     ]
    }
   ],
   "source": [
    "# Check what type of data the variables are\n",
    "print(type(a))\n",
    "print(type(b))"
   ]
  },
  {
   "cell_type": "markdown",
   "metadata": {},
   "source": [
    "## Dictionaries \n",
    "* Use { } \n",
    "* Associate \"keys\" with \"values\"\n",
    "    * key:value\n",
    "* Don't take the word dictionary too literally "
   ]
  },
  {
   "cell_type": "markdown",
   "metadata": {},
   "source": [
    "#### Keys are immutable (unchangable) and must be unique (no duplicates)"
   ]
  },
  {
   "cell_type": "code",
   "execution_count": 62,
   "metadata": {},
   "outputs": [
    {
     "name": "stdout",
     "output_type": "stream",
     "text": [
      "{8717: 'J.Cole', 2309: 'Kendrick Lamar', 4008: 'Drake', 9904: 'Cardi A+', 1576: 'J. Cole'}\n",
      "<class 'dict'>\n"
     ]
    }
   ],
   "source": [
    "# Dictionary keys: Student ID numbers\n",
    "# Dictionary values: Student names\n",
    "    # Are the keys unique in this example?\n",
    "id_names = {8717: \"J.Cole\", 2309: \"Kendrick Lamar\", 4008:\"Drake\", 9904:\"Cardi B\", 1576:\"J. Cole\"}\n",
    "print(id_names)\n",
    "print(type(id_names))"
   ]
  },
  {
   "cell_type": "code",
   "execution_count": 63,
   "metadata": {},
   "outputs": [
    {
     "name": "stdout",
     "output_type": "stream",
     "text": [
      "J.Cole\n",
      "Drake\n"
     ]
    }
   ],
   "source": [
    "# Dictionary lookup is very fast\n",
    "    # Use the \"key\" to retrieve its associated \"value\"\n",
    "print(id_names[8717])\n",
    "print(id_names[4008])"
   ]
  },
  {
   "cell_type": "code",
   "execution_count": 67,
   "metadata": {},
   "outputs": [
    {
     "name": "stdout",
     "output_type": "stream",
     "text": [
      "{8717: 'J.Cole', 2309: 'Kendrick Lamar', 4008: 'Drake', 9904: 'Cardi A+', 1576: 'J. Cole', 1822: 'Deathlord the Human Terminator'}\n"
     ]
    }
   ],
   "source": [
    "# Assign new value pairs\n",
    "id_names[1822] = \"Deathlord the Human Terminator\"\n",
    "\n",
    "print(id_names)"
   ]
  },
  {
   "cell_type": "code",
   "execution_count": 68,
   "metadata": {},
   "outputs": [
    {
     "name": "stdout",
     "output_type": "stream",
     "text": [
      "6\n"
     ]
    }
   ],
   "source": [
    "# Check the length of the dictionary\n",
    "print(len(id_names))"
   ]
  },
  {
   "cell_type": "code",
   "execution_count": 69,
   "metadata": {},
   "outputs": [
    {
     "name": "stdout",
     "output_type": "stream",
     "text": [
      "True\n"
     ]
    }
   ],
   "source": [
    "# Search through a dictionary similar to lists\n",
    "    # Typically slow for a list\n",
    "    # Typically fast for a dictionary!\n",
    "print(2309 in id_names)"
   ]
  },
  {
   "cell_type": "code",
   "execution_count": 70,
   "metadata": {},
   "outputs": [
    {
     "name": "stdout",
     "output_type": "stream",
     "text": [
      "False\n"
     ]
    }
   ],
   "source": [
    "# Try a key that is not in our dictionary:\n",
    "print(6969 in id_names)"
   ]
  },
  {
   "cell_type": "markdown",
   "metadata": {},
   "source": [
    "## Task 1\n",
    "  * use a for loop to create a list of 31 random numbers between -5 and 35\n",
    "    * Example: [-4, 31, 0, 1, 8, 19, 8,..., 22]\n",
    "  "
   ]
  },
  {
   "cell_type": "code",
   "execution_count": 6,
   "metadata": {},
   "outputs": [
    {
     "name": "stdout",
     "output_type": "stream",
     "text": [
      "[19, 21, 19, 19, 1, 26, 30, 5, -1, 27, 23, 7, 26, 6, 11, -3, 2, 22, -5, 27, 29, -3, 14, 33, 20, 24, 9, 14, 31, 14, 34]\n"
     ]
    }
   ],
   "source": [
    "import random\n",
    "output = []\n",
    "\n",
    "for i in range(31):\n",
    "    UniverseDoom = random.randint(-5,35)\n",
    "    output.append(UniverseDoom)\n",
    "\n",
    "print(output)"
   ]
  },
  {
   "cell_type": "markdown",
   "metadata": {},
   "source": [
    "## Task 2\n",
    "  * 1) Check if 32 degrees appears in your list of temperatures\n",
    "  * 2) Pick a temperature that does appear in your list. Write some code that shows that this temperature appears in your list of temperatures\n",
    "  * 3) Verify that the length of your list is 31\n",
    "  "
   ]
  },
  {
   "cell_type": "code",
   "execution_count": 7,
   "metadata": {},
   "outputs": [
    {
     "name": "stdout",
     "output_type": "stream",
     "text": [
      "False\n",
      "14\n",
      "True\n"
     ]
    }
   ],
   "source": [
    "Earth_Destroyer = 32 in output\n",
    "print(Earth_Destroyer)\n",
    "\n",
    "import random\n",
    "Ribcage_crusher=output[random.randint(0 , len(output) - 1)]\n",
    "print(Ribcage_crusher)\n",
    "\n",
    "\n",
    "print(31 == len(output))"
   ]
  },
  {
   "cell_type": "markdown",
   "metadata": {},
   "source": [
    "## Task 3\n",
    "  * use print and your list to write a for loop in the following form:\n",
    "    * The temperature on January 1 was -4 degrees F. \n",
    "    * The temperature on January 2 was 31 degrees F. \n",
    "    * The temperature on January 3 was 0 degrees F. \n",
    "    * ...\n",
    "    * The temperature on January 31 was 22 degrees F.\n",
    "  "
   ]
  },
  {
   "cell_type": "code",
   "execution_count": 9,
   "metadata": {},
   "outputs": [
    {
     "name": "stdout",
     "output_type": "stream",
     "text": [
      "The tempurature on Jan 1 was 19 degrees F.\n",
      "The tempurature on Jan 2 was 21 degrees F.\n",
      "The tempurature on Jan 3 was 19 degrees F.\n",
      "The tempurature on Jan 4 was 19 degrees F.\n",
      "The tempurature on Jan 5 was 1 degrees F.\n",
      "The tempurature on Jan 6 was 26 degrees F.\n",
      "The tempurature on Jan 7 was 30 degrees F.\n",
      "The tempurature on Jan 8 was 5 degrees F.\n",
      "The tempurature on Jan 9 was -1 degrees F.\n",
      "The tempurature on Jan 10 was 27 degrees F.\n",
      "The tempurature on Jan 11 was 23 degrees F.\n",
      "The tempurature on Jan 12 was 7 degrees F.\n",
      "The tempurature on Jan 13 was 26 degrees F.\n",
      "The tempurature on Jan 14 was 6 degrees F.\n",
      "The tempurature on Jan 15 was 11 degrees F.\n",
      "The tempurature on Jan 16 was -3 degrees F.\n",
      "The tempurature on Jan 17 was 2 degrees F.\n",
      "The tempurature on Jan 18 was 22 degrees F.\n",
      "The tempurature on Jan 19 was -5 degrees F.\n",
      "The tempurature on Jan 20 was 27 degrees F.\n",
      "The tempurature on Jan 21 was 29 degrees F.\n",
      "The tempurature on Jan 22 was -3 degrees F.\n",
      "The tempurature on Jan 23 was 14 degrees F.\n",
      "The tempurature on Jan 24 was 33 degrees F.\n",
      "The tempurature on Jan 25 was 20 degrees F.\n",
      "The tempurature on Jan 26 was 24 degrees F.\n",
      "The tempurature on Jan 27 was 9 degrees F.\n",
      "The tempurature on Jan 28 was 14 degrees F.\n",
      "The tempurature on Jan 29 was 31 degrees F.\n",
      "The tempurature on Jan 30 was 14 degrees F.\n",
      "The tempurature on Jan 31 was 34 degrees F.\n"
     ]
    }
   ],
   "source": [
    "for i in range(31):\n",
    "     print(\"The tempurature on Jan \" + str(i+1) + \" was \" + str(output[i]) + \" degrees F.\")"
   ]
  },
  {
   "cell_type": "markdown",
   "metadata": {},
   "source": [
    "## Challenge\n",
    "  * use lists and math operators to write a function hex_converter(input) that takes a decimal number as input and returns its hexadecimal equivalent as output \n",
    "    * show the output for hex_converter(255), hex_converter(10), hex_converter(851) to show that your algorithm works\n",
    "  "
   ]
  },
  {
   "cell_type": "code",
   "execution_count": null,
   "metadata": {
    "collapsed": true
   },
   "outputs": [],
   "source": []
  }
 ],
 "metadata": {
  "kernelspec": {
   "display_name": "Python 3 (ipykernel)",
   "language": "python",
   "name": "python3"
  },
  "language_info": {
   "codemirror_mode": {
    "name": "ipython",
    "version": 3
   },
   "file_extension": ".py",
   "mimetype": "text/x-python",
   "name": "python",
   "nbconvert_exporter": "python",
   "pygments_lexer": "ipython3",
   "version": "3.10.9"
  }
 },
 "nbformat": 4,
 "nbformat_minor": 1
}
