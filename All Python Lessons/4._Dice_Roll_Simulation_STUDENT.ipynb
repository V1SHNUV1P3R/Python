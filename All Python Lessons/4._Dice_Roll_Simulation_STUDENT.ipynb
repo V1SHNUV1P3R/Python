{
 "cells": [
  {
   "cell_type": "markdown",
   "metadata": {},
   "source": [
    "# Randomly Generate Dice Rolls\n",
    "* Use numpy.random.randint(min index, max index + 1, times to repeat)\n",
    "    * link: https://numpy.org/doc/stable/reference/random/generated/numpy.random.randint.html\n",
    "* You should generate numbers numbers between 1 and 6\n",
    "    * These are the values on the faces of a die\n",
    "* You should \"roll the die\" 1000 times\n",
    "    * That is, you should generate 1000 random numbers between 1 and 6 (inclusive)"
   ]
  },
  {
   "cell_type": "code",
   "execution_count": 5,
   "metadata": {},
   "outputs": [
    {
     "name": "stdout",
     "output_type": "stream",
     "text": [
      "[6 1 5 3 1 5 1 4 5 3 3 3 3 2 4 4 1 3 5 1 2 2 5 6 1 4 4 5 1 5 5 4 6 4 2 5 1\n",
      " 4 4 1 1 3 2 4 6 6 3 2 1 3 2 4 2 2 1 3 4 5 6 3 4 1 1 1 6 4 6 6 5 2 3 6 1 3\n",
      " 4 2 4 1 4 2 6 6 4 1 1 4 6 4 1 2 3 3 5 5 6 2 3 2 1 4 3 3 5 3 3 6 2 1 2 2 2\n",
      " 1 6 1 6 5 6 4 3 4 6 5 4 6 5 4 3 4 1 4 1 6 4 4 6 1 4 5 4 4 6 1 4 1 5 4 2 5\n",
      " 4 1 2 4 1 3 5 5 5 4 3 2 6 4 4 1 3 1 3 1 6 1 6 4 3 1 5 3 3 3 1 2 4 1 6 3 5\n",
      " 6 4 2 1 4 6 3 3 3 5 3 4 3 4 1 6 3 5 2 1 6 2 2 5 2 6 1 6 4 4 3 5 5 3 2 4 2\n",
      " 1 4 6 3 6 5 6 5 6 3 2 5 5 5 4 4 3 3 1 5 4 2 1 3 3 1 4 3 4 1 4 4 5 3 6 4 1\n",
      " 5 1 3 2 2 6 4 6 2 1 5 6 6 3 3 2 6 1 3 2 6 3 3 3 4 2 2 1 1 6 5 1 5 4 1 1 6\n",
      " 1 4 6 2 3 3 3 5 1 2 2 1 3 2 2 6 3 6 6 2 5 4 4 3 1 6 4 3 2 3 1 2 1 4 3 1 5\n",
      " 5 1 1 3 5 6 4 5 6 6 4 3 4 2 4 4 4 4 1 6 1 6 4 2 3 3 2 6 2 2 6 4 4 5 4 6 4\n",
      " 6 1 3 4 2 4 1 2 5 1 1 4 3 6 3 4 4 3 4 2 2 3 1 6 3 4 6 5 1 1 4 4 6 6 5 1 2\n",
      " 3 3 4 4 5 5 5 5 2 3 3 3 2 1 6 6 6 2 1 6 5 4 3 2 4 1 4 3 4 2 4 1 5 3 1 6 4\n",
      " 1 1 5 3 6 2 4 3 2 2 5 1 5 3 4 1 4 4 6 2 5 6 5 2 6 1 5 1 5 4 2 5 4 5 6 1 2\n",
      " 1 5 1 3 1 1 1 6 2 3 5 1 1 4 6 2 2 4 2 6 1 6 4 3 2 6 5 4 1 3 6 1 5 3 1 5 2\n",
      " 1 5 1 1 2 6 5 1 3 2 5 5 3 6 4 1 3 2 1 1 1 3 5 5 6 1 4 6 4 6 6 6 2 1 5 6 3\n",
      " 1 4 4 6 5 4 6 3 3 6 5 3 6 4 1 6 2 5 2 6 4 4 4 2 6 5 3 6 2 2 5 3 5 5 5 4 3\n",
      " 3 1 4 4 2 3 6 4 6 6 3 1 4 3 4 4 2 4 4 2 5 3 3 5 1 1 2 5 2 4 1 4 6 6 3 5 4\n",
      " 2 3 2 6 3 3 5 4 2 3 6 5 5 6 1 1 6 5 1 1 1 6 1 6 2 4 4 4 4 3 5 3 4 4 2 1 4\n",
      " 4 1 4 5 2 2 5 1 4 2 6 5 4 6 3 6 5 5 6 4 3 5 5 1 2 6 5 1 3 4 2 5 3 1 4 6 3\n",
      " 5 4 5 1 4 6 6 4 5 5 2 3 3 2 5 4 6 3 3 6 5 1 6 2 2 6 4 3 4 1 6 3 4 6 2 5 3\n",
      " 4 1 6 6 4 5 1 2 5 1 6 3 6 4 6 6 3 6 6 1 4 4 4 3 2 4 5 1 4 4 1 4 5 3 5 1 6\n",
      " 3 5 4 6 3 6 4 4 2 1 6 3 3 5 6 5 3 6 1 5 2 1 1 3 1 1 1 5 4 6 6 6 5 1 4 1 6\n",
      " 6 3 3 5 6 3 4 4 3 2 1 4 5 5 3 1 4 3 6 6 2 2 3 1 3 2 4 6 2 6 1 4 3 3 2 4 5\n",
      " 2 4 3 3 3 2 4 6 2 5 3 4 3 4 5 6 4 6 3 4 6 1 5 2 4 5 5 1 5 2 2 5 2 4 2 3 1\n",
      " 3 6 3 3 3 1 2 6 2 2 5 4 4 6 1 1 3 3 6 2 1 5 3 2 3 6 6 4 3 2 5 5 6 4 6 4 3\n",
      " 1 4 4 3 2 6 3 3 1 4 4 5 4 3 3 2 5 5 2 4 3 2 5 2 2 2 4 6 3 5 5 2 3 1 4 6 4\n",
      " 6 6 4 3 1 1 2 5 5 6 1 1 4 6 1 3 3 2 3 6 4 1 5 3 4 4 6 5 6 6 3 5 3 1 5 2 2\n",
      " 5]\n"
     ]
    }
   ],
   "source": [
    "import random\n",
    "import numpy\n",
    "#NUMPY IS EXCLUSIVE\n",
    "DeathlordTheHumanTerminator = numpy.random.randint(1,7,1000)\n",
    "\n",
    "print(DeathlordTheHumanTerminator)"
   ]
  },
  {
   "cell_type": "markdown",
   "metadata": {},
   "source": [
    "# Count the results using Bin Count\n",
    "* Useful method: numpy.bincount()\n",
    "* Counts the number of times a number appears in a list\n",
    "* Returns an array with counts\n",
    "  * link: https://numpy.org/doc/stable/reference/generated/numpy.bincount.html"
   ]
  },
  {
   "cell_type": "code",
   "execution_count": 12,
   "metadata": {},
   "outputs": [
    {
     "name": "stdout",
     "output_type": "stream",
     "text": [
      "[  0 167 140 177 197 150 169]\n",
      "The number of 1's is '167\n",
      "The number of 2's is '140\n",
      "The number of 3's is '177\n",
      "The number of 4's is '197\n",
      "The number of 5's is '150\n",
      "The number of 6's is '169\n"
     ]
    }
   ],
   "source": [
    "count = numpy.bincount(DeathlordTheHumanTerminator)\n",
    "\n",
    "print(count)\n",
    "\n",
    "for i in range(1,7):\n",
    "    print(\"The number of \" + str(i) + \"\\'s is '\" + str(count[i]))"
   ]
  },
  {
   "cell_type": "markdown",
   "metadata": {},
   "source": [
    "# Histogram\n",
    "* Useful method: np.random.choice()\n",
    "  * link: https://numpy.org/doc/stable/reference/random/generated/numpy.random.choice.html"
   ]
  },
  {
   "cell_type": "code",
   "execution_count": 29,
   "metadata": {},
   "outputs": [
    {
     "data": {
      "text/plain": [
       "Text(0, 0.5, 'Bins for Candy')"
      ]
     },
     "execution_count": 29,
     "metadata": {},
     "output_type": "execute_result"
    },
    {
     "data": {
      "image/png": "[encoded data removed]",
      "text/plain": [
       "<Figure size 640x480 with 1 Axes>"
      ]
     },
     "metadata": {},
     "output_type": "display_data"
    }
   ],
   "source": [
    "import matplotlib.pyplot as plt\n",
    "%matplotlib inline\n",
    "\n",
    "#create an array of colors for the graph\n",
    "Ribcagecrusher = [\"Blue\", \"Red\", \"Green\", \"Yellow\"]\n",
    "\n",
    "plt.hist(DeathlordTheHumanTerminator, bins = [1,2,3,4,5,6,7], align = \"mid\", color = numpy.random.choice(Ribcagecrusher), edgecolor = \"k\")\n",
    "plt.title(\"Amount of candy I stole\")\n",
    "plt.xlabel(\"Frequency\")\n",
    "plt.ylabel(\"Bins for Candy\")"
   ]
  },
  {
   "cell_type": "code",
   "execution_count": null,
   "metadata": {},
   "outputs": [],
   "source": []
  }
 ],
 "metadata": {
  "kernelspec": {
   "display_name": "Python 3 (ipykernel)",
   "language": "python",
   "name": "python3"
  },
  "language_info": {
   "codemirror_mode": {
    "name": "ipython",
    "version": 3
   },
   "file_extension": ".py",
   "mimetype": "text/x-python",
   "name": "python",
   "nbconvert_exporter": "python",
   "pygments_lexer": "ipython3",
   "version": "3.10.9"
  }
 },
 "nbformat": 4,
 "nbformat_minor": 2
}
