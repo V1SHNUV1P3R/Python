{
 "cells": [
  {
   "cell_type": "markdown",
   "metadata": {},
   "source": [
    "# <u>Web Scraping</u>\n",
    "\n",
    "## <u>Part \\#2: Web Scraping and Web Crawling Using *Beautiful Soup*</u>\n",
    "\n",
    "The World Wide Web is a potential treasure trove for a data scientist. But in order to access this data, we need to find it and extract it. In this notebook, you we learn about this process by web scraping and web crawling using a Python module called **Beautiful Soup**.\n",
    "\n",
    "As an introduction to web scraping we will start by opening a page on Wikipedia, find all links to other Wikipedia pages on that page, then pick one of those links (randomly) to 'crawl' to another page.  We will continue this process and see where it leads us."
   ]
  },
  {
   "cell_type": "markdown",
   "metadata": {},
   "source": [
    "### <u>Importing Useful Modules</u>\n",
    "\n",
    "First we will need to access modules to assist us - some of them are familiar, others are new.  Add some code comments to explain what these imports are used for.  You do not need to say exactly what we will use them for, just what their general purpose is.  You may want to look this up on the Internet."
   ]
  },
  {
   "cell_type": "code",
   "execution_count": 44,
   "metadata": {},
   "outputs": [],
   "source": [
    "from urllib.request import urlopen           # Used to open URL webpages\n",
    "from bs4 import BeautifulSoup                # Used to read HTML of webpages \n",
    "import datetime                              # Used to create/use date and time objects\n",
    "import random                                # Used to generate random numbers\n",
    "import re                                    # Used to compare if Strings to expressions\n",
    "import time                                  # Used to create time objects\n",
    "from IPython.display import Image, display   # Used to display images in Python Notebook"
   ]
  },
  {
   "cell_type": "markdown",
   "metadata": {},
   "source": [
    "### <u>Get Links from a Wikipedia Page</u>\n",
    "\n",
    "Let's see how many links to other Wikipedia pages we can find on the Wikipedia page for Fremd High School.  First we will define a general function (method) to get links off of any Wikipedia page.  Remember that a big advantage of using functions (methods) is that we can reuse code and perform the same task over and over with different inputs but only one group of code statements. In short, this is an **abstraction that helps manage the complexity of our program**. \n",
    "\n",
    "In our case here we will be able to use this function to find page links for any Wikipedia page and not just FHS's page.  This will make it possible (and much more efficient) to perform our random 'crawl' through Wikipedia pages.    "
   ]
  },
  {
   "cell_type": "code",
   "execution_count": 45,
   "metadata": {},
   "outputs": [],
   "source": [
    "def get_links(article_url):                                     # Create function to extract links from a given Wiki page\n",
    "    html_page = urlopen(\"http://en.wikipedia.org\"+article_url)  # Opens whatever page we are requesting\n",
    "    bs_obj = BeautifulSoup(html_page, 'html.parser')            # Saves the html in a Beautiful Soup object\n",
    "    \n",
    "    # The next line finds specific HTML elements in the page we opened - notice the familiar tags and properties\n",
    "    return bs_obj.find(\"div\",{\"id\":\"bodyContent\"}).findAll(\"a\",href=re.compile(\"^(/wiki/)((?!:).)*$\"))"
   ]
  },
  {
   "cell_type": "markdown",
   "metadata": {},
   "source": [
    "*Notice:* The return statement above uses a *regular expression*. The *re.compile()* method puts together an expression for the *findAll()* method to match to a certain *href*. The text below briefly explains what the various parts of the regular expression mean. \n",
    "\n",
    "What does *^(/wiki/)* look for?\n",
    "    - The start of a string followed by the literal \"/wiki/\"\n",
    "    \n",
    "What does _((?!:).)*_ look for?\n",
    "    - As many occurences as exist of anything that is not a \":\" followed by a \".\"\n",
    "    \n",
    "What does  _$_ look for?\n",
    "    - Anything from the current location to the end of the string"
   ]
  },
  {
   "cell_type": "markdown",
   "metadata": {},
   "source": [
    "### <u>Counting the Links on Fremd's Wikipedia Page</u>\n",
    "\n",
    "Next we will call our function, *get_links(articleUrl)*, by sending in the name of Wikipedia's Fremd High School page. The entire url is https://en.wikipedia.org/wiki/William_Fremd_High_School but we only need to send in the last part of the url since that is how we wrote our function."
   ]
  },
  {
   "cell_type": "code",
   "execution_count": 46,
   "metadata": {},
   "outputs": [],
   "source": [
    "links=get_links(\"/wiki/William_Fremd_High_School\")  # Call to function created above"
   ]
  },
  {
   "cell_type": "markdown",
   "metadata": {},
   "source": [
    "**<u>Question 4:</u>** How many links are on the Fremd High School Wikipedia page? You will need to write code in the cell below to find out.\n",
    "\n",
    "*Hint: 'links' is a list, how can you find out how long it is?*\n",
    "    \n",
    "**<u>Your Answer: 276 lil bro.</u>** "
   ]
  },
  {
   "cell_type": "code",
   "execution_count": 47,
   "metadata": {},
   "outputs": [
    {
     "data": {
      "text/plain": [
       "276"
      ]
     },
     "execution_count": 47,
     "metadata": {},
     "output_type": "execute_result"
    }
   ],
   "source": [
    "# Your code here\n",
    "len(links)"
   ]
  },
  {
   "cell_type": "markdown",
   "metadata": {
    "collapsed": true
   },
   "source": [
    "**<u>Question 5:</u>**  What type of data is stored in links? You will need to write code in the cell below to find out.\n",
    "\n",
    "**<u>Your Answer:</u>** "
   ]
  },
  {
   "cell_type": "code",
   "execution_count": 48,
   "metadata": {},
   "outputs": [
    {
     "name": "stdout",
     "output_type": "stream",
     "text": [
      "<class 'bs4.element.ResultSet'>\n"
     ]
    }
   ],
   "source": [
    "# Your code below\n",
    "print(type(links))"
   ]
  },
  {
   "cell_type": "markdown",
   "metadata": {},
   "source": [
    "### <u>View the Links Stored in the Variable '*links*'</u>\n",
    "\n",
    "Now let's look at all of these links:"
   ]
  },
  {
   "cell_type": "code",
   "execution_count": 49,
   "metadata": {},
   "outputs": [
    {
     "name": "stdout",
     "output_type": "stream",
     "text": [
      "[<a href=\"/wiki/Palatine,_Illinois\" title=\"Palatine, Illinois\">Palatine</a>, <a href=\"/wiki/Illinois\" title=\"Illinois\">Illinois</a>, <a href=\"/wiki/Geographic_coordinate_system\" title=\"Geographic coordinate system\">Coordinates</a>, <a href=\"/wiki/Township_High_School_District_211\" title=\"Township High School District 211\">Township H.S. 211</a>, <a href=\"/wiki/Full-time_equivalent\" title=\"Full-time equivalent\">FTE</a>, <a href=\"/wiki/Forest_green\" title=\"Forest green\">Forest Green</a>, <a href=\"/wiki/Gold_(color)\" title=\"Gold (color)\">Gold</a>, <a href=\"/wiki/Fight_song\" title=\"Fight song\">Fight song</a>, <a href=\"/wiki/Mid-Suburban_League\" title=\"Mid-Suburban League\">Mid-Suburban League</a>, <a class=\"mw-redirect\" href=\"/wiki/High_school\" title=\"High school\">high school</a>, <a href=\"/wiki/Palatine,_Illinois\" title=\"Palatine, Illinois\">Palatine, Illinois</a>, <a class=\"mw-redirect\" href=\"/wiki/Chicago,_Illinois\" title=\"Chicago, Illinois\">Chicago, Illinois</a>, <a href=\"/wiki/United_States\" title=\"United States\">United States</a>, <a href=\"/wiki/Township_High_School_District_211\" title=\"Township High School District 211\">Township High School District 211</a>, <a href=\"/wiki/James_B._Conant_High_School\" title=\"James B. Conant High School\">James B. Conant High School</a>, <a href=\"/wiki/Hoffman_Estates_High_School\" title=\"Hoffman Estates High School\">Hoffman Estates High School</a>, <a href=\"/wiki/Palatine_High_School\" title=\"Palatine High School\">Palatine High School</a>, <a href=\"/wiki/Schaumburg_High_School\" title=\"Schaumburg High School\">Schaumburg High School</a>, <a href=\"/wiki/Newsweek\" title=\"Newsweek\">Newsweek</a>, <a href=\"/wiki/U.S._News_%26_World_Report\" title=\"U.S. News &amp; World Report\">U.S. News &amp; World Report</a>, <a href=\"/wiki/Union_Pacific_Northwest_Line\" title=\"Union Pacific Northwest Line\">UP NW Line</a>, <a class=\"mw-redirect\" href=\"/wiki/Hoffman_Estates\" title=\"Hoffman Estates\">Hoffman Estates</a>, <a class=\"mw-redirect\" href=\"/wiki/Rolling_Meadows\" title=\"Rolling Meadows\">Rolling Meadows</a>, <a href=\"/wiki/Schaumburg,_Illinois\" title=\"Schaumburg, Illinois\">Schaumburg</a>, <a class=\"mw-redirect\" href=\"/wiki/South_Barrington\" title=\"South Barrington\">South Barrington</a>, <a href=\"/wiki/Inverness,_Illinois\" title=\"Inverness, Illinois\">Inverness</a>, <a class=\"mw-redirect\" href=\"/wiki/Plum_Grove_Junior_High_School\" title=\"Plum Grove Junior High School\">Plum Grove Junior High</a>, <a href=\"/wiki/Illinois\" title=\"Illinois\">Illinois</a>, <a href=\"/wiki/Palatine_High_School\" title=\"Palatine High School\">Palatine High School</a>, <a href=\"/wiki/Minnesota_Vikings\" title=\"Minnesota Vikings\">Minnesota Vikings</a>, <a href=\"/wiki/Artificial_turf\" title=\"Artificial turf\">synthetic turf</a>, <a href=\"/wiki/The_New_York_Times\" title=\"The New York Times\">The New York Times</a>, <a class=\"mw-redirect\" href=\"/wiki/Township_High_School_District_211_transgender_student_incidents\" title=\"Township High School District 211 transgender student incidents\">Fremd's administration violated anti-discrimination laws</a>, <a href=\"/wiki/SAT\" title=\"SAT\">SAT</a>, <a class=\"mw-redirect\" href=\"/wiki/ACT_(examination)\" title=\"ACT (examination)\">ACT</a>, <a href=\"/wiki/United_States_Department_of_Education\" title=\"United States Department of Education\">United States Department of Education</a>, <a href=\"/wiki/Newsweek\" title=\"Newsweek\">Newsweek</a>, <a href=\"/wiki/U.S._News_%26_World_Report\" title=\"U.S. News &amp; World Report\">U.S. News &amp; World Report</a>, <a href=\"/wiki/Mid-Suburban_League\" title=\"Mid-Suburban League\">Mid-Suburban League</a>, <a href=\"/wiki/Illinois_High_School_Association\" title=\"Illinois High School Association\">Illinois High School Association</a>, <a class=\"mw-redirect\" href=\"/wiki/Viking\" title=\"Viking\">Viking</a>, <a href=\"/wiki/Basketball\" title=\"Basketball\">basketball</a>, <a href=\"/wiki/Cross_country_running\" title=\"Cross country running\">cross country</a>, <a href=\"/wiki/Golf\" title=\"Golf\">golf</a>, <a href=\"/wiki/Gymnastics\" title=\"Gymnastics\">gymnastics</a>, <a class=\"mw-redirect\" href=\"/wiki/Soccer\" title=\"Soccer\">soccer</a>, <a href=\"/wiki/Swimming_(sport)\" title=\"Swimming (sport)\">swimming</a>, <a href=\"/wiki/Diving_(sport)\" title=\"Diving (sport)\">diving</a>, <a href=\"/wiki/Tennis\" title=\"Tennis\">tennis</a>, <a href=\"/wiki/Track_and_field\" title=\"Track and field\">track and field</a>, <a href=\"/wiki/Volleyball\" title=\"Volleyball\">volleyball</a>, <a href=\"/wiki/Chess\" title=\"Chess\">chess</a>, <a href=\"/wiki/Water_polo\" title=\"Water polo\">water polo</a>, <a href=\"/wiki/Baseball\" title=\"Baseball\">baseball</a>, <a href=\"/wiki/High_school_football\" title=\"High school football\">football</a>, <a href=\"/wiki/Scholastic_wrestling\" title=\"Scholastic wrestling\">wrestling</a>, <a href=\"/wiki/Badminton\" title=\"Badminton\">badminton</a>, <a href=\"/wiki/Bowling\" title=\"Bowling\">bowling</a>, <a href=\"/wiki/Softball\" title=\"Softball\">softball</a>, <a href=\"/wiki/Lacrosse\" title=\"Lacrosse\">lacrosse</a>, <a href=\"/wiki/Ice_hockey\" title=\"Ice hockey\">Hockey</a>, <a href=\"/wiki/Business_Professionals_of_America\" title=\"Business Professionals of America\">BPA</a>, <a href=\"/wiki/Chess\" title=\"Chess\">Chess</a>, <a href=\"/wiki/Robotics\" title=\"Robotics\">Robotics</a>, <a class=\"mw-redirect\" href=\"/wiki/FCCLA\" title=\"FCCLA\">FCCLA</a>, <a class=\"mw-redirect\" href=\"/wiki/Model_UN\" title=\"Model UN\">Model UN</a>, <a class=\"mw-redirect\" href=\"/wiki/Tri-M_Music_Honor_Society\" title=\"Tri-M Music Honor Society\">Tri-M Music Honor Society</a>, <a href=\"/wiki/National_Honor_Society\" title=\"National Honor Society\">National Honor Society</a>, <a href=\"/wiki/Color_guard_(flag_spinning)\" title=\"Color guard (flag spinning)\">Vikettes (Colorguard)</a>, <a class=\"mw-redirect\" href=\"/wiki/Science_Bowl\" title=\"Science Bowl\">National Science Bowl</a>, <a href=\"/wiki/Debate\" title=\"Debate\">Debate</a>, <a href=\"/wiki/Drama\" title=\"Drama\">Drama</a>, <a href=\"/wiki/Journalism\" title=\"Journalism\">Journalism</a>, <a class=\"mw-redirect\" href=\"/wiki/Quizbowl\" title=\"Quizbowl\">Scholastic Bowl</a>, <a href=\"/wiki/Billy_Collins\" title=\"Billy Collins\">Billy Collins</a>, <a href=\"/wiki/Gwendolyn_Brooks\" title=\"Gwendolyn Brooks\">Gwendolyn Brooks</a>, <a class=\"mw-redirect\" href=\"/wiki/Nobel_prize\" title=\"Nobel prize\">Nobel</a>, <a class=\"mw-redirect\" href=\"/wiki/Leon_Lederman\" title=\"Leon Lederman\">Leon Lederman</a>, <a href=\"/wiki/Rick_Bragg\" title=\"Rick Bragg\">Rick Bragg</a>, <a href=\"/wiki/Eric_Zorn\" title=\"Eric Zorn\">Eric Zorn</a>, <a href=\"/wiki/Jane_Hamilton\" title=\"Jane Hamilton\">Jane Hamilton</a>, <a href=\"/wiki/Raymond_Benson\" title=\"Raymond Benson\">Raymond Benson</a>, <a href=\"/wiki/Rosellen_Brown\" title=\"Rosellen Brown\">Rosellen Brown</a>, <a href=\"/wiki/Harry_Mark_Petrakis\" title=\"Harry Mark Petrakis\">Harry Mark Petrakis</a>, <a href=\"/wiki/Frederik_Pohl\" title=\"Frederik Pohl\">Frederik Pohl</a>, <a href=\"/wiki/Nikki_Giovanni\" title=\"Nikki Giovanni\">Nikki Giovanni</a>, <a href=\"/wiki/Naomi_Shihab_Nye\" title=\"Naomi Shihab Nye\">Naomi Shihab Nye</a>, <a href=\"/wiki/Poetry_slam\" title=\"Poetry slam\">poetry slam</a>, <a class=\"mw-redirect\" href=\"/wiki/Marc_Smith_(American_poet)\" title=\"Marc Smith (American poet)\">Marc Smith</a>, <a href=\"/wiki/Bill_Kelly_(writer)\" title=\"Bill Kelly (writer)\">Bill Kelly</a>, <a href=\"/wiki/Born_of_Osiris\" title=\"Born of Osiris\">Born of Osiris</a>, <a href=\"/wiki/Progressive_metalcore\" title=\"Progressive metalcore\">progressive metalcore</a>, <a href=\"/wiki/Deathcore\" title=\"Deathcore\">deathcore</a>, <a href=\"/wiki/Tomorrow_We_Die_Alive\" title=\"Tomorrow We Die Alive\">Tomorrow We Die Alive</a>, <a class=\"mw-redirect\" href=\"/wiki/BrandUn_DeShay\" title=\"BrandUn DeShay\">brandUn DeShay</a>, <a class=\"mw-redirect\" href=\"/wiki/Young_Money\" title=\"Young Money\">Young Money</a>, <a class=\"mw-redirect\" href=\"/wiki/Curren$y\" title=\"Curren$y\">Curren$y</a>, <a href=\"/wiki/Chance_the_Rapper\" title=\"Chance the Rapper\">Chance the Rapper</a>, <a href=\"/wiki/Mac_Miller\" title=\"Mac Miller\">Mac Miller</a>, <a class=\"mw-redirect\" href=\"/wiki/Odd_Future_Wolf_Gang_Kill_Them_All\" title=\"Odd Future Wolf Gang Kill Them All\">Odd Future Wolf Gang Kill Them All</a>, <a href=\"/wiki/Leslie_Erganian\" title=\"Leslie Erganian\">Leslie Erganian</a>, <a href=\"/wiki/Hallmark_Channel\" title=\"Hallmark Channel\">Hallmark Channel</a>, <a href=\"/wiki/Jasen_Fisher\" title=\"Jasen Fisher\">Jasen Fisher</a>, <a href=\"/wiki/Parenthood_(film)\" title=\"Parenthood (film)\">Parenthood</a>, <a href=\"/wiki/The_Witches_(1990_film)\" title=\"The Witches (1990 film)\">The Witches</a>, <a href=\"/wiki/Hook_(film)\" title=\"Hook (film)\">Hook</a>, <a href=\"/wiki/Chris_Fleming_(TV_personality)\" title=\"Chris Fleming (TV personality)\">Chris Fleming</a>, <a class=\"mw-redirect\" href=\"/wiki/The_Biography_Channel\" title=\"The Biography Channel\">The Biography Channel</a>, <a class=\"mw-redirect\" href=\"/wiki/A%26E_Network\" title=\"A&amp;E Network\">A&amp;E Network</a>, <a href=\"/wiki/Psychic_Kids\" title=\"Psychic Kids\">Psychic Kids</a>, <a href=\"/wiki/Larry_King\" title=\"Larry King\">Larry King</a>, <a href=\"/wiki/Ghost_Hunters_(TV_series)\" title=\"Ghost Hunters (TV series)\">Ghost Hunters</a>, <a href=\"/wiki/Ghost_Adventures\" title=\"Ghost Adventures\">Ghost Adventures</a>, <a href=\"/wiki/The_Haunted_(American_TV_series)\" title=\"The Haunted (American TV series)\">The Haunted</a>, <a href=\"/wiki/Paranormal_Challenge\" title=\"Paranormal Challenge\">Paranormal Challenge</a>, <a href=\"/wiki/Ryan_Hartman\" title=\"Ryan Hartman\">Ryan Hartman</a>, <a href=\"/wiki/Todd_Hundley\" title=\"Todd Hundley\">Todd Hundley</a>, <a href=\"/wiki/Major_League_Baseball_All-Star_Game\" title=\"Major League Baseball All-Star Game\">All-Star</a>, <a href=\"/wiki/Major_League_Baseball\" title=\"Major League Baseball\">Major League Baseball</a>, <a class=\"mw-redirect\" href=\"/wiki/Catcher_(baseball)\" title=\"Catcher (baseball)\">catcher</a>, <a href=\"/wiki/New_York_Mets\" title=\"New York Mets\">New York Mets</a>, <a href=\"/wiki/Eric_Leonard\" title=\"Eric Leonard\">Eric Leonard</a>, <a class=\"mw-redirect\" href=\"/wiki/Soccer\" title=\"Soccer\">soccer</a>, <a href=\"/wiki/Midfielder\" title=\"Midfielder\">midfielder</a>, <a href=\"/wiki/Forward_Madison_FC\" title=\"Forward Madison FC\">Forward Madison FC</a>, <a href=\"/wiki/USL_League_One\" title=\"USL League One\">USL League One</a>, <a href=\"/wiki/Robert_Lorenz\" title=\"Robert Lorenz\">Robert Lorenz</a>, <a href=\"/wiki/Academy_Awards\" title=\"Academy Awards\">Academy Award</a>, <a href=\"/wiki/Film_producer\" title=\"Film producer\">movie producer</a>, <a href=\"/wiki/Assistant_director\" title=\"Assistant director\">assistant director</a>, <a href=\"/wiki/Clint_Eastwood\" title=\"Clint Eastwood\">Clint Eastwood</a>, <a href=\"/wiki/Letters_from_Iwo_Jima\" title=\"Letters from Iwo Jima\">Letters from Iwo Jima</a>, <a href=\"/wiki/Mystic_River_(film)\" title=\"Mystic River (film)\">Mystic River</a>, <a href=\"/wiki/Space_Cowboys\" title=\"Space Cowboys\">Space Cowboys</a>, <a href=\"/wiki/Changeling_(film)\" title=\"Changeling (film)\">Changeling</a>, <a href=\"/wiki/Million_Dollar_Baby\" title=\"Million Dollar Baby\">Million Dollar Baby</a>, <a class=\"mw-redirect\" href=\"/wiki/Gran_Torino_(film)\" title=\"Gran Torino (film)\">Gran Torino</a>, <a href=\"/wiki/Ted_Nugent\" title=\"Ted Nugent\">Ted Nugent</a>, <a href=\"/wiki/Bette_Otto-Bliesner\" title=\"Bette Otto-Bliesner\">Bette Otto-Bliesner</a>, <a href=\"/wiki/Intergovernmental_Panel_on_Climate_Change\" title=\"Intergovernmental Panel on Climate Change\">Intergovernmental Panel on Climate Change</a>, <a class=\"mw-redirect\" href=\"/wiki/Kris_Myers\" title=\"Kris Myers\">Kris Myers</a>, <a href=\"/wiki/Jam_band\" title=\"Jam band\">jam band</a>, <a href=\"/wiki/Umphrey%27s_McGee\" title=\"Umphrey's McGee\">Umphrey's McGee</a>, <a href=\"/wiki/Chris_Perez_(gridiron_football)\" title=\"Chris Perez (gridiron football)\">Chris Perez</a>, <a class=\"mw-redirect\" href=\"/wiki/NFL\" title=\"NFL\">NFL</a>, <a href=\"/wiki/Canadian_Football_League\" title=\"Canadian Football League\">Canadian Football League</a>, <a href=\"/wiki/Mark_Robinson_(drummer)\" title=\"Mark Robinson (drummer)\">Mark Robinson</a>, <a href=\"/wiki/Jonas_Brothers\" title=\"Jonas Brothers\">Jonas Brothers</a>, <a href=\"/wiki/Kenny_Chesney\" title=\"Kenny Chesney\">Kenny Chesney</a>, <a href=\"/wiki/Keith_Urban\" title=\"Keith Urban\">Keith Urban</a>, <a href=\"/wiki/Atlanta\" title=\"Atlanta\">Atlanta</a>, <a href=\"/wiki/Jim_Schwantz\" title=\"Jim Schwantz\">Jim Schwantz</a>, <a href=\"/wiki/National_Football_League\" title=\"National Football League\">NFL</a>, <a href=\"/wiki/Linebacker\" title=\"Linebacker\">linebacker</a>, <a href=\"/wiki/Dallas_Cowboys\" title=\"Dallas Cowboys\">Dallas Cowboys</a>, <a href=\"/wiki/Super_Bowl\" title=\"Super Bowl\">Super Bowl</a>, <a href=\"/wiki/Super_Bowl_XXX\" title=\"Super Bowl XXX\">Super Bowl XXX</a>, <a href=\"/wiki/Palatine,_Illinois\" title=\"Palatine, Illinois\">Palatine</a>, <a href=\"/wiki/Mallory_Snyder\" title=\"Mallory Snyder\">Mallory Snyder</a>, <a class=\"mw-redirect\" href=\"/wiki/The_Real_World_(Paris)\" title=\"The Real World (Paris)\">The Real World 13</a>, <a href=\"/wiki/Mari-Rae_Sopper\" title=\"Mari-Rae Sopper\">Mari-Rae Sopper</a>, <a href=\"/wiki/Judge_Advocate_General%27s_Corps\" title=\"Judge Advocate General's Corps\">Judge Advocate General's Corps</a>, <a href=\"/wiki/September_11_attacks\" title=\"September 11 attacks\">September 11 attacks</a>, <a href=\"/wiki/American_Airlines_Flight_77\" title=\"American Airlines Flight 77\">American Airlines Flight 77</a>, <a href=\"/wiki/Mike_Tauchman\" title=\"Mike Tauchman\">Mike Tauchman</a>, <a href=\"/wiki/Chicago_Cubs\" title=\"Chicago Cubs\">Chicago Cubs</a>, <a href=\"/wiki/Scott_Tolzien\" title=\"Scott Tolzien\">Scott Tolzien</a>, <a href=\"/wiki/Wisconsin_Badgers_football\" title=\"Wisconsin Badgers football\">Wisconsin Badgers</a>, <a href=\"/wiki/Big_Ten_Conference\" title=\"Big Ten Conference\">Big Ten Conference</a>, <a class=\"mw-redirect\" href=\"/wiki/Rose_Bowl_game\" title=\"Rose Bowl game\">Rose Bowl</a>, <a class=\"mw-redirect\" href=\"/wiki/Corinna_Kopf\" title=\"Corinna Kopf\">Corinna Kopf</a>, <a href=\"/wiki/Palatine,_Illinois\" title=\"Palatine, Illinois\">Palatine, Illinois</a>, <a href=\"/wiki/Community_Consolidated_School_District_15\" title=\"Community Consolidated School District 15\">Community Consolidated School District 15</a>, <a href=\"/wiki/Township_High_School_District_211\" title=\"Township High School District 211\">Township High School District 211</a>, <a href=\"/wiki/Palatine_High_School\" title=\"Palatine High School\">Palatine High School</a>, <a href=\"/wiki/Quest_Academy_(Palatine,_Illinois)\" title=\"Quest Academy (Palatine, Illinois)\">Quest Academy</a>, <a href=\"/wiki/Harper_College\" title=\"Harper College\">Harper College</a>, <a href=\"/wiki/Charles_H._Patten_House\" title=\"Charles H. Patten House\">Charles H. Patten House</a>, <a href=\"/wiki/Cutting_Hall\" title=\"Cutting Hall\">Cutting Hall</a>, <a href=\"/wiki/George_Clayson_House\" title=\"George Clayson House\">George Clayson House</a>, <a class=\"mw-redirect\" href=\"/wiki/Palatine_(Metra_station)\" title=\"Palatine (Metra station)\">Palatine Metra station</a>, <a href=\"/wiki/Brown%27s_Chicken_massacre\" title=\"Brown's Chicken massacre\">Brown's Chicken massacre</a>, <a href=\"/wiki/Cook_County,_Illinois\" title=\"Cook County, Illinois\">Cook County, Illinois</a>, <a href=\"/wiki/Argo_Community_High_School\" title=\"Argo Community High School\">Argo Community</a>, <a href=\"/wiki/Victor_J._Andrew_High_School\" title=\"Victor J. Andrew High School\">Victor J. Andrew</a>, <a href=\"/wiki/Bloom_High_School\" title=\"Bloom High School\">Bloom</a>, <a href=\"/wiki/Bloom_Trail_High_School\" title=\"Bloom Trail High School\">Bloom Trail</a>, <a href=\"/wiki/Bremen_High_School_(Midlothian,_Illinois)\" title=\"Bremen High School (Midlothian, Illinois)\">Bremen</a>, <a href=\"/wiki/Buffalo_Grove_High_School\" title=\"Buffalo Grove High School\">Buffalo Grove</a>, <a href=\"/wiki/James_B._Conant_High_School\" title=\"James B. Conant High School\">James B. Conant</a>, <a href=\"/wiki/Dwight_D._Eisenhower_High_School_(Blue_Island,_Illinois)\" title=\"Dwight D. Eisenhower High School (Blue Island, Illinois)\">Dwight D. Eisenhower</a>, <a href=\"/wiki/East_Leyden_High_School\" title=\"East Leyden High School\">East Leyden</a>, <a href=\"/wiki/Elk_Grove_High_School_(Elk_Grove_Village,_Illinois)\" title=\"Elk Grove High School (Elk Grove Village, Illinois)\">Elk Grove</a>, <a href=\"/wiki/Evanston_Township_High_School\" title=\"Evanston Township High School\">Evanston Township</a>, <a href=\"/wiki/Evergreen_Park_Community_High_School_District_231\" title=\"Evergreen Park Community High School District 231\">Evergreen Park Community</a>, <a href=\"/wiki/Glenbrook_North_High_School\" title=\"Glenbrook North High School\">Glenbrook North</a>, <a href=\"/wiki/Glenbrook_South_High_School\" title=\"Glenbrook South High School\">Glenbrook South</a>, <a href=\"/wiki/John_Hersey_High_School\" title=\"John Hersey High School\">John Hersey</a>, <a href=\"/wiki/Hillcrest_High_School_(Country_Club_Hills,_Illinois)\" title=\"Hillcrest High School (Country Club Hills, Illinois)\">Hillcrest</a>, <a href=\"/wiki/Hoffman_Estates_High_School\" title=\"Hoffman Estates High School\">Hoffman Estates</a>, <a href=\"/wiki/Homewood-Flossmoor_High_School\" title=\"Homewood-Flossmoor High School\">Homewood-Flossmoor</a>, <a href=\"/wiki/Lemont_High_School\" title=\"Lemont High School\">Lemont</a>, <a href=\"/wiki/Lyons_Township_High_School\" title=\"Lyons Township High School\">Lyons Township</a>, <a href=\"/wiki/Maine_East_High_School\" title=\"Maine East High School\">Maine East</a>, <a href=\"/wiki/Maine_West_High_School\" title=\"Maine West High School\">Maine West</a>, <a href=\"/wiki/Maine_South_High_School\" title=\"Maine South High School\">Maine South</a>, <a href=\"/wiki/J._Sterling_Morton_High_School_East\" title=\"J. Sterling Morton High School East\">J. Sterling Morton East</a>, <a href=\"/wiki/J._Sterling_Morton_High_School_West\" title=\"J. Sterling Morton High School West\">J. Sterling Morton West</a>, <a href=\"/wiki/New_Trier_High_School\" title=\"New Trier High School\">New Trier</a>, <a href=\"/wiki/Niles_North_High_School\" title=\"Niles North High School\">Niles North</a>, <a href=\"/wiki/Niles_West_High_School\" title=\"Niles West High School\">Niles West</a>, <a href=\"/wiki/Oak_Forest_High_School\" title=\"Oak Forest High School\">Oak Forest</a>, <a href=\"/wiki/Oak_Park_and_River_Forest_High_School\" title=\"Oak Park and River Forest High School\">Oak Park and River Forest</a>, <a href=\"/wiki/Oak_Lawn_Community_High_School\" title=\"Oak Lawn Community High School\">Oak Lawn Community</a>, <a href=\"/wiki/Palatine_High_School\" title=\"Palatine High School\">Palatine</a>, <a href=\"/wiki/Prospect_High_School_(Illinois)\" title=\"Prospect High School (Illinois)\">Prospect</a>, <a href=\"/wiki/Proviso_East_High_School\" title=\"Proviso East High School\">Proviso East</a>, <a href=\"/wiki/Proviso_West_High_School\" title=\"Proviso West High School\">Proviso West</a>, <a href=\"/wiki/Reavis_High_School\" title=\"Reavis High School\">Reavis</a>, <a href=\"/wiki/Rich_Central_High_School\" title=\"Rich Central High School\">Rich Township High School-STEM Campus</a>, <a href=\"/wiki/Rich_South_High_School\" title=\"Rich South High School\">Rich South</a>, <a href=\"/wiki/Harold_L._Richards_High_School\" title=\"Harold L. Richards High School\">Harold L. Richards</a>, <a href=\"/wiki/Ridgewood_High_School_(Illinois)\" title=\"Ridgewood High School (Illinois)\">Ridgewood</a>, <a href=\"/wiki/Riverside_Brookfield_High_School\" title=\"Riverside Brookfield High School\">Riverside Brookfield</a>, <a href=\"/wiki/Rolling_Meadows_High_School\" title=\"Rolling Meadows High School\">Rolling Meadows</a>, <a href=\"/wiki/Carl_Sandburg_High_School\" title=\"Carl Sandburg High School\">Carl Sandburg</a>, <a href=\"/wiki/Schaumburg_High_School\" title=\"Schaumburg High School\">Schaumburg</a>, <a href=\"/wiki/Alan_B._Shepard_High_School\" title=\"Alan B. Shepard High School\">Alan B. Shepard</a>, <a href=\"/wiki/Amos_Alonzo_Stagg_High_School\" title=\"Amos Alonzo Stagg High School\">Amos Alonzo Stagg</a>, <a href=\"/wiki/Thornton_Fractional_North_High_School\" title=\"Thornton Fractional North High School\">Thornton Fractional North</a>, <a href=\"/wiki/Thornton_Fractional_South_High_School\" title=\"Thornton Fractional South High School\">Thornton Fractional South</a>, <a href=\"/wiki/Thornton_Township_High_School\" title=\"Thornton Township High School\">Thornton Township</a>, <a href=\"/wiki/Thornridge_High_School\" title=\"Thornridge High School\">Thornridge</a>, <a href=\"/wiki/Thornwood_High_School\" title=\"Thornwood High School\">Thornwood</a>, <a href=\"/wiki/Tinley_Park_High_School\" title=\"Tinley Park High School\">Tinley Park</a>, <a href=\"/wiki/West_Leyden_High_School\" title=\"West Leyden High School\">West Leyden</a>, <a href=\"/wiki/Wheeling_High_School\" title=\"Wheeling High School\">Wheeling</a>, <a href=\"/wiki/Forest_View_High_School_(Illinois)\" title=\"Forest View High School (Illinois)\">Forest View</a>, <a href=\"/wiki/Maine_North_High_School\" title=\"Maine North High School\">Maine North</a>, <a href=\"/wiki/Niles_East_High_School\" title=\"Niles East High School\">Niles East</a>, <a href=\"/wiki/Rich_East_High_School\" title=\"Rich East High School\">Rich East</a>, <a href=\"/wiki/Southland_College_Preparatory_Charter_High_School\" title=\"Southland College Preparatory Charter High School\">Southland College Preparatory Charter</a>, <a href=\"/wiki/Roycemore_School\" title=\"Roycemore School\">Roycemore</a>, <a href=\"/wiki/Free_School_of_Evanston\" title=\"Free School of Evanston\">Free School of Evanston</a>, <a href=\"/wiki/Aqsa_School\" title=\"Aqsa School\">Aqsa</a>, <a href=\"/wiki/Fasman_Yeshiva_High_School\" title=\"Fasman Yeshiva High School\">Fasman Yeshiva HS</a>, <a href=\"/wiki/Fenwick_High_School_(Oak_Park,_Illinois)\" title=\"Fenwick High School (Oak Park, Illinois)\">Fenwick HS</a>, <a href=\"/wiki/Ida_Crown_Jewish_Academy\" title=\"Ida Crown Jewish Academy\">Ida Crown Jewish Acad</a>, <a href=\"/wiki/Loyola_Academy\" title=\"Loyola Academy\">Loyola Acad</a>, <a href=\"/wiki/Marian_Catholic_High_School_(Illinois)\" title=\"Marian Catholic High School (Illinois)\">Marian Catholic HS</a>, <a href=\"/wiki/Nazareth_Academy_(La_Grange_Park,_Illinois)\" title=\"Nazareth Academy (La Grange Park, Illinois)\">Nazareth Acad</a>, <a href=\"/wiki/MCC_Academy\" title=\"MCC Academy\">MCC Academy</a>, <a href=\"/wiki/Notre_Dame_College_Prep\" title=\"Notre Dame College Prep\">Notre Dame College Prep</a>, <a href=\"/wiki/Regina_Dominican_High_School\" title=\"Regina Dominican High School\">Regina Dominican HS</a>, <a href=\"/wiki/St._Joseph_High_School_(Westchester,_Illinois)\" title=\"St. Joseph High School (Westchester, Illinois)\">St. Joseph HS</a>, <a href=\"/wiki/St._Laurence_High_School\" title=\"St. Laurence High School\">St. Laurence HS</a>, <a href=\"/wiki/St._Viator_High_School\" title=\"St. Viator High School\">St. Viator HS</a>, <a href=\"/wiki/Seton_Academy_(South_Holland,_Illinois)\" title=\"Seton Academy (South Holland, Illinois)\">Seton Acad</a>, <a href=\"/wiki/Trinity_High_School_(River_Forest,_Illinois)\" title=\"Trinity High School (River Forest, Illinois)\">Trinity HS</a>, <a href=\"/wiki/Universal_School\" title=\"Universal School\">Universal</a>, <a href=\"/wiki/Evanston_Civic_Center\" title=\"Evanston Civic Center\">Marywood Acad</a>, <a href=\"/wiki/Mount_Assisi_Academy\" title=\"Mount Assisi Academy\">Mount Assisi Acad</a>, <a href=\"/wiki/Queen_of_Peace_High_School_(Illinois)\" title=\"Queen of Peace High School (Illinois)\">Queen of Peace HS</a>, <a href=\"/wiki/Guerin_College_Preparatory_High_School\" title=\"Guerin College Preparatory High School\">Guerin College Prep HS</a>, <a href=\"/wiki/Mid-Suburban_League\" title=\"Mid-Suburban League\">Mid-Suburban League</a>, <a href=\"/wiki/Buffalo_Grove_High_School\" title=\"Buffalo Grove High School\">Buffalo Grove</a>, <a href=\"/wiki/Elk_Grove_High_School_(Elk_Grove_Village,_Illinois)\" title=\"Elk Grove High School (Elk Grove Village, Illinois)\">Elk Grove</a>, <a href=\"/wiki/John_Hersey_High_School\" title=\"John Hersey High School\">Hersey</a>, <a href=\"/wiki/Prospect_High_School_(Illinois)\" title=\"Prospect High School (Illinois)\">Prospect</a>, <a href=\"/wiki/Rolling_Meadows_High_School\" title=\"Rolling Meadows High School\">Rolling Meadows</a>, <a href=\"/wiki/Wheeling_High_School\" title=\"Wheeling High School\">Wheeling</a>, <a class=\"mw-redirect\" href=\"/wiki/Barrington_High_School_(Lake_County,_Illinois)\" title=\"Barrington High School (Lake County, Illinois)\">Barrington</a>, <a href=\"/wiki/James_B._Conant_High_School\" title=\"James B. Conant High School\">Conant</a>, <a href=\"/wiki/Hoffman_Estates_High_School\" title=\"Hoffman Estates High School\">Hoffman Estates</a>, <a href=\"/wiki/Palatine_High_School\" title=\"Palatine High School\">Palatine</a>, <a href=\"/wiki/Schaumburg_High_School\" title=\"Schaumburg High School\">Schaumburg</a>]\n"
     ]
    }
   ],
   "source": [
    "print(links)"
   ]
  },
  {
   "cell_type": "markdown",
   "metadata": {},
   "source": [
    "### <u>Clean the List</u>\n",
    "\n",
    "Now let's clean the page links up a bit. First we will use a list comprehension to create a list of only the href portion of each tag. Then we will look only at the page names by removing the text that appears at the beginning of each link.  "
   ]
  },
  {
   "cell_type": "code",
   "execution_count": 50,
   "metadata": {},
   "outputs": [
    {
     "name": "stdout",
     "output_type": "stream",
     "text": [
      "Palatine,_Illinois\n",
      "Illinois\n",
      "Geographic_coordinate_system\n",
      "Township_High_School_District_211\n",
      "Full-time_equivalent\n",
      "Forest_green\n",
      "Gold_(color)\n",
      "Fight_song\n",
      "Mid-Suburban_League\n",
      "High_school\n",
      "Palatine,_Illinois\n",
      "Chicago,_Illinois\n",
      "United_States\n",
      "Township_High_School_District_211\n",
      "James_B._Conant_High_School\n",
      "Hoffman_Estates_High_School\n",
      "Palatine_High_School\n",
      "Schaumburg_High_School\n",
      "Newsweek\n",
      "U.S._News_%26_World_Report\n",
      "Union_Pacific_Northwest_Line\n",
      "Hoffman_Estates\n",
      "Rolling_Meadows\n",
      "Schaumburg,_Illinois\n",
      "South_Barrington\n",
      "Inverness,_Illinois\n",
      "Plum_Grove_Junior_High_School\n",
      "Illinois\n",
      "Palatine_High_School\n",
      "Minnesota_Vikings\n",
      "Artificial_turf\n",
      "The_New_York_Times\n",
      "Township_High_School_District_211_transgender_student_incidents\n",
      "SAT\n",
      "ACT_(examination)\n",
      "United_States_Department_of_Education\n",
      "Newsweek\n",
      "U.S._News_%26_World_Report\n",
      "Mid-Suburban_League\n",
      "Illinois_High_School_Association\n",
      "Viking\n",
      "Basketball\n",
      "Cross_country_running\n",
      "Golf\n",
      "Gymnastics\n",
      "Soccer\n",
      "Swimming_(sport)\n",
      "Diving_(sport)\n",
      "Tennis\n",
      "Track_and_field\n",
      "Volleyball\n",
      "Chess\n",
      "Water_polo\n",
      "Baseball\n",
      "High_school_football\n",
      "Scholastic_wrestling\n",
      "Badminton\n",
      "Bowling\n",
      "Softball\n",
      "Lacrosse\n",
      "Ice_hockey\n",
      "Business_Professionals_of_America\n",
      "Chess\n",
      "Robotics\n",
      "FCCLA\n",
      "Model_UN\n",
      "Tri-M_Music_Honor_Society\n",
      "National_Honor_Society\n",
      "Color_guard_(flag_spinning)\n",
      "Science_Bowl\n",
      "Debate\n",
      "Drama\n",
      "Journalism\n",
      "Quizbowl\n",
      "Billy_Collins\n",
      "Gwendolyn_Brooks\n",
      "Nobel_prize\n",
      "Leon_Lederman\n",
      "Rick_Bragg\n",
      "Eric_Zorn\n",
      "Jane_Hamilton\n",
      "Raymond_Benson\n",
      "Rosellen_Brown\n",
      "Harry_Mark_Petrakis\n",
      "Frederik_Pohl\n",
      "Nikki_Giovanni\n",
      "Naomi_Shihab_Nye\n",
      "Poetry_slam\n",
      "Marc_Smith_(American_poet)\n",
      "Bill_Kelly_(writer)\n",
      "Born_of_Osiris\n",
      "Progressive_metalcore\n",
      "Deathcore\n",
      "Tomorrow_We_Die_Alive\n",
      "BrandUn_DeShay\n",
      "Young_Money\n",
      "Curren$y\n",
      "Chance_the_Rapper\n",
      "Mac_Miller\n",
      "Odd_Future_Wolf_Gang_Kill_Them_All\n",
      "Leslie_Erganian\n",
      "Hallmark_Channel\n",
      "Jasen_Fisher\n",
      "Parenthood_(film)\n",
      "The_Witches_(1990_film)\n",
      "Hook_(film)\n",
      "Chris_Fleming_(TV_personality)\n",
      "The_Biography_Channel\n",
      "A%26E_Network\n",
      "Psychic_Kids\n",
      "Larry_King\n",
      "Ghost_Hunters_(TV_series)\n",
      "Ghost_Adventures\n",
      "The_Haunted_(American_TV_series)\n",
      "Paranormal_Challenge\n",
      "Ryan_Hartman\n",
      "Todd_Hundley\n",
      "Major_League_Baseball_All-Star_Game\n",
      "Major_League_Baseball\n",
      "Catcher_(baseball)\n",
      "New_York_Mets\n",
      "Eric_Leonard\n",
      "Soccer\n",
      "Midfielder\n",
      "Forward_Madison_FC\n",
      "USL_League_One\n",
      "Robert_Lorenz\n",
      "Academy_Awards\n",
      "Film_producer\n",
      "Assistant_director\n",
      "Clint_Eastwood\n",
      "Letters_from_Iwo_Jima\n",
      "Mystic_River_(film)\n",
      "Space_Cowboys\n",
      "Changeling_(film)\n",
      "Million_Dollar_Baby\n",
      "Gran_Torino_(film)\n",
      "Ted_Nugent\n",
      "Bette_Otto-Bliesner\n",
      "Intergovernmental_Panel_on_Climate_Change\n",
      "Kris_Myers\n",
      "Jam_band\n",
      "Umphrey%27s_McGee\n",
      "Chris_Perez_(gridiron_football)\n",
      "NFL\n",
      "Canadian_Football_League\n",
      "Mark_Robinson_(drummer)\n",
      "Jonas_Brothers\n",
      "Kenny_Chesney\n",
      "Keith_Urban\n",
      "Atlanta\n",
      "Jim_Schwantz\n",
      "National_Football_League\n",
      "Linebacker\n",
      "Dallas_Cowboys\n",
      "Super_Bowl\n",
      "Super_Bowl_XXX\n",
      "Palatine,_Illinois\n",
      "Mallory_Snyder\n",
      "The_Real_World_(Paris)\n",
      "Mari-Rae_Sopper\n",
      "Judge_Advocate_General%27s_Corps\n",
      "September_11_attacks\n",
      "American_Airlines_Flight_77\n",
      "Mike_Tauchman\n",
      "Chicago_Cubs\n",
      "Scott_Tolzien\n",
      "Wisconsin_Badgers_football\n",
      "Big_Ten_Conference\n",
      "Rose_Bowl_game\n",
      "Corinna_Kopf\n",
      "Palatine,_Illinois\n",
      "Community_Consolidated_School_District_15\n",
      "Township_High_School_District_211\n",
      "Palatine_High_School\n",
      "Quest_Academy_(Palatine,_Illinois)\n",
      "Harper_College\n",
      "Charles_H._Patten_House\n",
      "Cutting_Hall\n",
      "George_Clayson_House\n",
      "Palatine_(Metra_station)\n",
      "Brown%27s_Chicken_massacre\n",
      "Cook_County,_Illinois\n",
      "Argo_Community_High_School\n",
      "Victor_J._Andrew_High_School\n",
      "Bloom_High_School\n",
      "Bloom_Trail_High_School\n",
      "Bremen_High_School_(Midlothian,_Illinois)\n",
      "Buffalo_Grove_High_School\n",
      "James_B._Conant_High_School\n",
      "Dwight_D._Eisenhower_High_School_(Blue_Island,_Illinois)\n",
      "East_Leyden_High_School\n",
      "Elk_Grove_High_School_(Elk_Grove_Village,_Illinois)\n",
      "Evanston_Township_High_School\n",
      "Evergreen_Park_Community_High_School_District_231\n",
      "Glenbrook_North_High_School\n",
      "Glenbrook_South_High_School\n",
      "John_Hersey_High_School\n",
      "Hillcrest_High_School_(Country_Club_Hills,_Illinois)\n",
      "Hoffman_Estates_High_School\n",
      "Homewood-Flossmoor_High_School\n",
      "Lemont_High_School\n",
      "Lyons_Township_High_School\n",
      "Maine_East_High_School\n",
      "Maine_West_High_School\n",
      "Maine_South_High_School\n",
      "J._Sterling_Morton_High_School_East\n",
      "J._Sterling_Morton_High_School_West\n",
      "New_Trier_High_School\n",
      "Niles_North_High_School\n",
      "Niles_West_High_School\n",
      "Oak_Forest_High_School\n",
      "Oak_Park_and_River_Forest_High_School\n",
      "Oak_Lawn_Community_High_School\n",
      "Palatine_High_School\n",
      "Prospect_High_School_(Illinois)\n",
      "Proviso_East_High_School\n",
      "Proviso_West_High_School\n",
      "Reavis_High_School\n",
      "Rich_Central_High_School\n",
      "Rich_South_High_School\n",
      "Harold_L._Richards_High_School\n",
      "Ridgewood_High_School_(Illinois)\n",
      "Riverside_Brookfield_High_School\n",
      "Rolling_Meadows_High_School\n",
      "Carl_Sandburg_High_School\n",
      "Schaumburg_High_School\n",
      "Alan_B._Shepard_High_School\n",
      "Amos_Alonzo_Stagg_High_School\n",
      "Thornton_Fractional_North_High_School\n",
      "Thornton_Fractional_South_High_School\n",
      "Thornton_Township_High_School\n",
      "Thornridge_High_School\n",
      "Thornwood_High_School\n",
      "Tinley_Park_High_School\n",
      "West_Leyden_High_School\n",
      "Wheeling_High_School\n",
      "Forest_View_High_School_(Illinois)\n",
      "Maine_North_High_School\n",
      "Niles_East_High_School\n",
      "Rich_East_High_School\n",
      "Southland_College_Preparatory_Charter_High_School\n",
      "Roycemore_School\n",
      "Free_School_of_Evanston\n",
      "Aqsa_School\n",
      "Fasman_Yeshiva_High_School\n",
      "Fenwick_High_School_(Oak_Park,_Illinois)\n",
      "Ida_Crown_Jewish_Academy\n",
      "Loyola_Academy\n",
      "Marian_Catholic_High_School_(Illinois)\n",
      "Nazareth_Academy_(La_Grange_Park,_Illinois)\n",
      "MCC_Academy\n",
      "Notre_Dame_College_Prep\n",
      "Regina_Dominican_High_School\n",
      "St._Joseph_High_School_(Westchester,_Illinois)\n",
      "St._Laurence_High_School\n",
      "St._Viator_High_School\n",
      "Seton_Academy_(South_Holland,_Illinois)\n",
      "Trinity_High_School_(River_Forest,_Illinois)\n",
      "Universal_School\n",
      "Evanston_Civic_Center\n",
      "Mount_Assisi_Academy\n",
      "Queen_of_Peace_High_School_(Illinois)\n",
      "Guerin_College_Preparatory_High_School\n",
      "Mid-Suburban_League\n",
      "Buffalo_Grove_High_School\n",
      "Elk_Grove_High_School_(Elk_Grove_Village,_Illinois)\n",
      "John_Hersey_High_School\n",
      "Prospect_High_School_(Illinois)\n",
      "Rolling_Meadows_High_School\n",
      "Wheeling_High_School\n",
      "Barrington_High_School_(Lake_County,_Illinois)\n",
      "James_B._Conant_High_School\n",
      "Hoffman_Estates_High_School\n",
      "Palatine_High_School\n",
      "Schaumburg_High_School\n"
     ]
    }
   ],
   "source": [
    "link_list=[link['href'] for link in links]   # Creates a list of href's for every link in the list\n",
    "for link in link_list:                       # Iterate over the newly formed list\n",
    "    link = link.replace('/wiki/','')         # Remove the repetitive text\n",
    "    print(link)                              # Display the page names one per line"
   ]
  },
  {
   "cell_type": "markdown",
   "metadata": {},
   "source": [
    "### <u>Web Crawling</u>\n",
    "\n",
    "Enough of just looking at the Fremd HS Wikipedia page. Now let's try to 'crawl' through some pages by randomly picking one of the links on the Fremd High School page and following it to see what page links appear on that page. Then we will pick a random link on the new page and continue this process until we have 20 links from 20 pages we've crawled through."
   ]
  },
  {
   "cell_type": "code",
   "execution_count": 51,
   "metadata": {},
   "outputs": [
    {
     "name": "stdout",
     "output_type": "stream",
     "text": [
      "/wiki/Mid-Suburban_League\n",
      "/wiki/Wheeling,_Illinois\n",
      "/wiki/Elk_Grove_Township,_Cook_County,_Illinois\n",
      "/wiki/Park_Ridge,_Illinois\n",
      "/wiki/Maine_East_High_School\n",
      "/wiki/United_States_Court_of_Appeals_for_the_Eighth_Circuit\n",
      "/wiki/Minnesota\n",
      "/wiki/Iron_Range\n",
      "/wiki/St._Louis_County,_Minnesota\n",
      "/wiki/Laurentian_Divide\n",
      "/wiki/Nelson_River\n",
      "/wiki/Lake_Skokomish\n",
      "/wiki/Glacial_Lake_Russell\n",
      "/wiki/Skokomish_River\n",
      "/wiki/December_2007_Pacific_Northwest_storms\n",
      "/wiki/Great_Gale_of_1880\n",
      "/wiki/Fort_William_(Oregon)\n",
      "/wiki/Asa_Lovejoy\n",
      "/wiki/Oregon_missionaries\n",
      "/wiki/Ezra_Meeker\n"
     ]
    }
   ],
   "source": [
    "import requests\n",
    "from IPython.display import Image, display\n",
    "\n",
    "#This next line \"seeds\" the random number generator at the current time (gives a somewhat random starting point)\n",
    "random.seed(int(datetime.datetime.now().strftime('%f')))  \n",
    "\n",
    "links=get_links(\"/wiki/William_Fremd_High_School\")                      # Extracts and creates a list of links from Fremd's webpage\n",
    "for i in range(20):                                                     # Loop to run 20 times\n",
    "    new_article = links[random.randint(0,len(links)-1)].attrs['href']   # Chooses random link from the list of links\n",
    "    print(new_article)                                                  # Prints the random link\n",
    "    links = get_links(new_article)                                      # Extract and creates a list of links from the new webpage\n",
    "    time.sleep(1)                                                       # 1-second break before another loop"
   ]
  },
  {
   "cell_type": "markdown",
   "metadata": {},
   "source": [
    "One of the reasons we picked Wikipedia pages to crawl through is that by doing web scraping there is the potential to flood a web server with requests. Wikipedia is used to receiving a lot of requests and can generally handle the volume. It is good practice, though, and considered common courtesy to put code into your web scraping program to pause in between requests.  The code is a simple \"sleep\" request. You will see this above with the link of code that reads *time.sleep(1)*."
   ]
  },
  {
   "cell_type": "markdown",
   "metadata": {},
   "source": [
    "### <u>Scraping Images</u>\n",
    "\n",
    "We can scrape many kinds of data from webpages. Instead of just links, let's try scraping images. First, here's a function that looks for the URL of the main image for a Wikipedia article:"
   ]
  },
  {
   "cell_type": "code",
   "execution_count": 52,
   "metadata": {},
   "outputs": [],
   "source": [
    "def get_image_url(article_url):\n",
    "    html_page = urlopen(\"http://en.wikipedia.org\"+article_url)                    # Opens whatever page we are requesting\n",
    "    bs_obj = BeautifulSoup(html_page, 'html.parser')                              # Saves the html in a Beautiful Soup object\n",
    "    try:\n",
    "        image_url = bs_obj.find(\"meta\",{\"property\":\"og:image\"}).attrs['content']  # Finds fist image on webpage, stores URL\n",
    "    except AttributeError:\n",
    "        image_url = False                                                         # If no URL is available, store 'False' instead\n",
    "    return image_url                                                              # Return image's URL"
   ]
  },
  {
   "cell_type": "markdown",
   "metadata": {},
   "source": [
    "Test it out with the Fremd High School Wikipedia page:"
   ]
  },
  {
   "cell_type": "code",
   "execution_count": 53,
   "metadata": {},
   "outputs": [
    {
     "data": {
      "text/plain": [
       "'https://upload.wikimedia.org/wikipedia/en/1/13/William_Fremd_High_School_Logo.png'"
      ]
     },
     "execution_count": 53,
     "metadata": {},
     "output_type": "execute_result"
    }
   ],
   "source": [
    "get_image_url(\"/wiki/William_Fremd_High_School\")  # Call to function created above"
   ]
  },
  {
   "cell_type": "markdown",
   "metadata": {},
   "source": [
    "Now a function that takes a Wikipedia article URL as input and then performs the following steps:\n",
    "\n",
    "* Get the URL of the main image on the page\n",
    "* Saves the image as *output_image*\n",
    "* Display the image in the notebook"
   ]
  },
  {
   "cell_type": "code",
   "execution_count": 54,
   "metadata": {},
   "outputs": [],
   "source": [
    "def return_image(wiki_url,image_width):                         # Create function that accepts a Wiki topic and width desired\n",
    "    \n",
    "    if get_image_url(wiki_url) != False:                        # If there is an available URL        \n",
    "        headers = {'User-Agent': 'Mozilla/5.0'}                     # Add a user-agent to our request\n",
    "        img=get_image_url(wiki_url)                                 # Extract image's URL\n",
    "        request = requests.get(img, headers = headers)              # Request the image\n",
    "        if request.status_code == 200:                              # If the request resolves \"Ok\"\n",
    "            url_to_file = request.content                           # Extract image data from URL\n",
    "            extension = img.split('.')[-1]                          # Extract image's name\n",
    "            name = \"output/output_image.\" + extension               # Create new name for image file\n",
    "            with open(name, 'wb') as image:                         # Create a new file to write information to\n",
    "                image.write(url_to_file)                            # Write the images data to the file\n",
    "            display(Image(filename=name,width=image_width))         # Open image in notebook\n",
    "        else:                                                   # Otherwise, give the status code\n",
    "            print(\"Error, Status Code:\", request.status_code)"
   ]
  },
  {
   "cell_type": "markdown",
   "metadata": {},
   "source": [
    "Let's test *return_image(wiki_url,image_width)* on the Fremd High School Wikipedia page and set an image width of 200 pixels:"
   ]
  },
  {
   "cell_type": "code",
   "execution_count": 55,
   "metadata": {
    "scrolled": true
   },
   "outputs": [
    {
     "ename": "FileNotFoundError",
     "evalue": "[Errno 2] No such file or directory: 'output/output_image.png'",
     "output_type": "error",
     "traceback": [
      "\u001b[1;31m---------------------------------------------------------------------------\u001b[0m",
      "\u001b[1;31mFileNotFoundError\u001b[0m                         Traceback (most recent call last)",
      "Cell \u001b[1;32mIn[55], line 1\u001b[0m\n\u001b[1;32m----> 1\u001b[0m \u001b[43mreturn_image\u001b[49m\u001b[43m(\u001b[49m\u001b[38;5;124;43m\"\u001b[39;49m\u001b[38;5;124;43m/wiki/William_Fremd_High_School\u001b[39;49m\u001b[38;5;124;43m\"\u001b[39;49m\u001b[43m,\u001b[49m\u001b[43m \u001b[49m\u001b[38;5;241;43m200\u001b[39;49m\u001b[43m)\u001b[49m\n",
      "Cell \u001b[1;32mIn[54], line 11\u001b[0m, in \u001b[0;36mreturn_image\u001b[1;34m(wiki_url, image_width)\u001b[0m\n\u001b[0;32m      9\u001b[0m extension \u001b[38;5;241m=\u001b[39m img\u001b[38;5;241m.\u001b[39msplit(\u001b[38;5;124m'\u001b[39m\u001b[38;5;124m.\u001b[39m\u001b[38;5;124m'\u001b[39m)[\u001b[38;5;241m-\u001b[39m\u001b[38;5;241m1\u001b[39m]                          \u001b[38;5;66;03m# Extract image's name\u001b[39;00m\n\u001b[0;32m     10\u001b[0m name \u001b[38;5;241m=\u001b[39m \u001b[38;5;124m\"\u001b[39m\u001b[38;5;124moutput/output_image.\u001b[39m\u001b[38;5;124m\"\u001b[39m \u001b[38;5;241m+\u001b[39m extension               \u001b[38;5;66;03m# Create new name for image file\u001b[39;00m\n\u001b[1;32m---> 11\u001b[0m \u001b[38;5;28;01mwith\u001b[39;00m \u001b[38;5;28;43mopen\u001b[39;49m\u001b[43m(\u001b[49m\u001b[43mname\u001b[49m\u001b[43m,\u001b[49m\u001b[43m \u001b[49m\u001b[38;5;124;43m'\u001b[39;49m\u001b[38;5;124;43mwb\u001b[39;49m\u001b[38;5;124;43m'\u001b[39;49m\u001b[43m)\u001b[49m \u001b[38;5;28;01mas\u001b[39;00m image:                         \u001b[38;5;66;03m# Create a new file to write information to\u001b[39;00m\n\u001b[0;32m     12\u001b[0m     image\u001b[38;5;241m.\u001b[39mwrite(url_to_file)                            \u001b[38;5;66;03m# Write the images data to the file\u001b[39;00m\n\u001b[0;32m     13\u001b[0m display(Image(filename\u001b[38;5;241m=\u001b[39mname,width\u001b[38;5;241m=\u001b[39mimage_width))         \u001b[38;5;66;03m# Open image in notebook\u001b[39;00m\n",
      "File \u001b[1;32mC:\\ProgramData\\anaconda3\\lib\\site-packages\\IPython\\core\\interactiveshell.py:282\u001b[0m, in \u001b[0;36m_modified_open\u001b[1;34m(file, *args, **kwargs)\u001b[0m\n\u001b[0;32m    275\u001b[0m \u001b[38;5;28;01mif\u001b[39;00m file \u001b[38;5;129;01min\u001b[39;00m {\u001b[38;5;241m0\u001b[39m, \u001b[38;5;241m1\u001b[39m, \u001b[38;5;241m2\u001b[39m}:\n\u001b[0;32m    276\u001b[0m     \u001b[38;5;28;01mraise\u001b[39;00m \u001b[38;5;167;01mValueError\u001b[39;00m(\n\u001b[0;32m    277\u001b[0m         \u001b[38;5;124mf\u001b[39m\u001b[38;5;124m\"\u001b[39m\u001b[38;5;124mIPython won\u001b[39m\u001b[38;5;124m'\u001b[39m\u001b[38;5;124mt let you open fd=\u001b[39m\u001b[38;5;132;01m{\u001b[39;00mfile\u001b[38;5;132;01m}\u001b[39;00m\u001b[38;5;124m by default \u001b[39m\u001b[38;5;124m\"\u001b[39m\n\u001b[0;32m    278\u001b[0m         \u001b[38;5;124m\"\u001b[39m\u001b[38;5;124mas it is likely to crash IPython. If you know what you are doing, \u001b[39m\u001b[38;5;124m\"\u001b[39m\n\u001b[0;32m    279\u001b[0m         \u001b[38;5;124m\"\u001b[39m\u001b[38;5;124myou can use builtins\u001b[39m\u001b[38;5;124m'\u001b[39m\u001b[38;5;124m open.\u001b[39m\u001b[38;5;124m\"\u001b[39m\n\u001b[0;32m    280\u001b[0m     )\n\u001b[1;32m--> 282\u001b[0m \u001b[38;5;28;01mreturn\u001b[39;00m io_open(file, \u001b[38;5;241m*\u001b[39margs, \u001b[38;5;241m*\u001b[39m\u001b[38;5;241m*\u001b[39mkwargs)\n",
      "\u001b[1;31mFileNotFoundError\u001b[0m: [Errno 2] No such file or directory: 'output/output_image.png'"
     ]
    }
   ],
   "source": [
    "return_image(\"/wiki/William_Fremd_High_School\", 200)  # Call to function created above"
   ]
  },
  {
   "cell_type": "markdown",
   "metadata": {},
   "source": [
    "Go Vikings! Now Let's repeat our web crawl, but now with images (when available). \n",
    "* *Notes:*\n",
    "    * Remember that this is a random crawl, so it is possible that you could encounter content on Wikipedia that is not school-appropriate. If this happens, simply rerun the cell below:\n",
    "    * Some links may just display text, while others will also display an image (if present)"
   ]
  },
  {
   "cell_type": "code",
   "execution_count": null,
   "metadata": {},
   "outputs": [],
   "source": [
    "# This next line \"seeds\" the random number generator at the current time (gives a somewhat random starting point)\n",
    "random.seed(int(datetime.datetime.now().strftime('%f')))  \n",
    "\n",
    "links=get_links(\"/wiki/William_Fremd_High_School\")                      # Extracts and creates a list of links from Fremd's webpage\n",
    "for i in range(20):                                                     # Loop to run 20 times\n",
    "    new_article = links[random.randint(0,len(links)-1)].attrs['href']   # Chooses random link from the list of links\n",
    "    return_image(new_article,100)                                       # Call function created above, displays first image from link\n",
    "    print(new_article)                                                  # Prints the random link\n",
    "    links = get_links(new_article)                                      # Extracts and creates a list of links from the new webpage\n",
    "    time.sleep(1)                                                       # 1-second break before another loop"
   ]
  },
  {
   "cell_type": "markdown",
   "metadata": {},
   "source": [
    "### <u>Experiment With a New Wikipedia Page</u>\n",
    "\n",
    "Now pick a Wikipedia page on a school-appropriate topic you are interested in and then try the following: "
   ]
  },
  {
   "cell_type": "markdown",
   "metadata": {},
   "source": [
    "#### <u>Scrape URL links from this page</u> \n",
    "   * Create a 'cleaned up' list of all the links from this wikipage"
   ]
  },
  {
   "cell_type": "code",
   "execution_count": 56,
   "metadata": {},
   "outputs": [
    {
     "ename": "URLError",
     "evalue": "<urlopen error [Errno 11001] getaddrinfo failed>",
     "output_type": "error",
     "traceback": [
      "\u001b[1;31m---------------------------------------------------------------------------\u001b[0m",
      "\u001b[1;31mgaierror\u001b[0m                                  Traceback (most recent call last)",
      "File \u001b[1;32mC:\\ProgramData\\anaconda3\\lib\\urllib\\request.py:1348\u001b[0m, in \u001b[0;36mAbstractHTTPHandler.do_open\u001b[1;34m(self, http_class, req, **http_conn_args)\u001b[0m\n\u001b[0;32m   1347\u001b[0m \u001b[38;5;28;01mtry\u001b[39;00m:\n\u001b[1;32m-> 1348\u001b[0m     \u001b[43mh\u001b[49m\u001b[38;5;241;43m.\u001b[39;49m\u001b[43mrequest\u001b[49m\u001b[43m(\u001b[49m\u001b[43mreq\u001b[49m\u001b[38;5;241;43m.\u001b[39;49m\u001b[43mget_method\u001b[49m\u001b[43m(\u001b[49m\u001b[43m)\u001b[49m\u001b[43m,\u001b[49m\u001b[43m \u001b[49m\u001b[43mreq\u001b[49m\u001b[38;5;241;43m.\u001b[39;49m\u001b[43mselector\u001b[49m\u001b[43m,\u001b[49m\u001b[43m \u001b[49m\u001b[43mreq\u001b[49m\u001b[38;5;241;43m.\u001b[39;49m\u001b[43mdata\u001b[49m\u001b[43m,\u001b[49m\u001b[43m \u001b[49m\u001b[43mheaders\u001b[49m\u001b[43m,\u001b[49m\n\u001b[0;32m   1349\u001b[0m \u001b[43m              \u001b[49m\u001b[43mencode_chunked\u001b[49m\u001b[38;5;241;43m=\u001b[39;49m\u001b[43mreq\u001b[49m\u001b[38;5;241;43m.\u001b[39;49m\u001b[43mhas_header\u001b[49m\u001b[43m(\u001b[49m\u001b[38;5;124;43m'\u001b[39;49m\u001b[38;5;124;43mTransfer-encoding\u001b[39;49m\u001b[38;5;124;43m'\u001b[39;49m\u001b[43m)\u001b[49m\u001b[43m)\u001b[49m\n\u001b[0;32m   1350\u001b[0m \u001b[38;5;28;01mexcept\u001b[39;00m \u001b[38;5;167;01mOSError\u001b[39;00m \u001b[38;5;28;01mas\u001b[39;00m err: \u001b[38;5;66;03m# timeout error\u001b[39;00m\n",
      "File \u001b[1;32mC:\\ProgramData\\anaconda3\\lib\\http\\client.py:1282\u001b[0m, in \u001b[0;36mHTTPConnection.request\u001b[1;34m(self, method, url, body, headers, encode_chunked)\u001b[0m\n\u001b[0;32m   1281\u001b[0m \u001b[38;5;124;03m\"\"\"Send a complete request to the server.\"\"\"\u001b[39;00m\n\u001b[1;32m-> 1282\u001b[0m \u001b[38;5;28;43mself\u001b[39;49m\u001b[38;5;241;43m.\u001b[39;49m\u001b[43m_send_request\u001b[49m\u001b[43m(\u001b[49m\u001b[43mmethod\u001b[49m\u001b[43m,\u001b[49m\u001b[43m \u001b[49m\u001b[43murl\u001b[49m\u001b[43m,\u001b[49m\u001b[43m \u001b[49m\u001b[43mbody\u001b[49m\u001b[43m,\u001b[49m\u001b[43m \u001b[49m\u001b[43mheaders\u001b[49m\u001b[43m,\u001b[49m\u001b[43m \u001b[49m\u001b[43mencode_chunked\u001b[49m\u001b[43m)\u001b[49m\n",
      "File \u001b[1;32mC:\\ProgramData\\anaconda3\\lib\\http\\client.py:1328\u001b[0m, in \u001b[0;36mHTTPConnection._send_request\u001b[1;34m(self, method, url, body, headers, encode_chunked)\u001b[0m\n\u001b[0;32m   1327\u001b[0m     body \u001b[38;5;241m=\u001b[39m _encode(body, \u001b[38;5;124m'\u001b[39m\u001b[38;5;124mbody\u001b[39m\u001b[38;5;124m'\u001b[39m)\n\u001b[1;32m-> 1328\u001b[0m \u001b[38;5;28;43mself\u001b[39;49m\u001b[38;5;241;43m.\u001b[39;49m\u001b[43mendheaders\u001b[49m\u001b[43m(\u001b[49m\u001b[43mbody\u001b[49m\u001b[43m,\u001b[49m\u001b[43m \u001b[49m\u001b[43mencode_chunked\u001b[49m\u001b[38;5;241;43m=\u001b[39;49m\u001b[43mencode_chunked\u001b[49m\u001b[43m)\u001b[49m\n",
      "File \u001b[1;32mC:\\ProgramData\\anaconda3\\lib\\http\\client.py:1277\u001b[0m, in \u001b[0;36mHTTPConnection.endheaders\u001b[1;34m(self, message_body, encode_chunked)\u001b[0m\n\u001b[0;32m   1276\u001b[0m     \u001b[38;5;28;01mraise\u001b[39;00m CannotSendHeader()\n\u001b[1;32m-> 1277\u001b[0m \u001b[38;5;28;43mself\u001b[39;49m\u001b[38;5;241;43m.\u001b[39;49m\u001b[43m_send_output\u001b[49m\u001b[43m(\u001b[49m\u001b[43mmessage_body\u001b[49m\u001b[43m,\u001b[49m\u001b[43m \u001b[49m\u001b[43mencode_chunked\u001b[49m\u001b[38;5;241;43m=\u001b[39;49m\u001b[43mencode_chunked\u001b[49m\u001b[43m)\u001b[49m\n",
      "File \u001b[1;32mC:\\ProgramData\\anaconda3\\lib\\http\\client.py:1037\u001b[0m, in \u001b[0;36mHTTPConnection._send_output\u001b[1;34m(self, message_body, encode_chunked)\u001b[0m\n\u001b[0;32m   1036\u001b[0m \u001b[38;5;28;01mdel\u001b[39;00m \u001b[38;5;28mself\u001b[39m\u001b[38;5;241m.\u001b[39m_buffer[:]\n\u001b[1;32m-> 1037\u001b[0m \u001b[38;5;28;43mself\u001b[39;49m\u001b[38;5;241;43m.\u001b[39;49m\u001b[43msend\u001b[49m\u001b[43m(\u001b[49m\u001b[43mmsg\u001b[49m\u001b[43m)\u001b[49m\n\u001b[0;32m   1039\u001b[0m \u001b[38;5;28;01mif\u001b[39;00m message_body \u001b[38;5;129;01mis\u001b[39;00m \u001b[38;5;129;01mnot\u001b[39;00m \u001b[38;5;28;01mNone\u001b[39;00m:\n\u001b[0;32m   1040\u001b[0m \n\u001b[0;32m   1041\u001b[0m     \u001b[38;5;66;03m# create a consistent interface to message_body\u001b[39;00m\n",
      "File \u001b[1;32mC:\\ProgramData\\anaconda3\\lib\\http\\client.py:975\u001b[0m, in \u001b[0;36mHTTPConnection.send\u001b[1;34m(self, data)\u001b[0m\n\u001b[0;32m    974\u001b[0m \u001b[38;5;28;01mif\u001b[39;00m \u001b[38;5;28mself\u001b[39m\u001b[38;5;241m.\u001b[39mauto_open:\n\u001b[1;32m--> 975\u001b[0m     \u001b[38;5;28;43mself\u001b[39;49m\u001b[38;5;241;43m.\u001b[39;49m\u001b[43mconnect\u001b[49m\u001b[43m(\u001b[49m\u001b[43m)\u001b[49m\n\u001b[0;32m    976\u001b[0m \u001b[38;5;28;01melse\u001b[39;00m:\n",
      "File \u001b[1;32mC:\\ProgramData\\anaconda3\\lib\\http\\client.py:941\u001b[0m, in \u001b[0;36mHTTPConnection.connect\u001b[1;34m(self)\u001b[0m\n\u001b[0;32m    940\u001b[0m sys\u001b[38;5;241m.\u001b[39maudit(\u001b[38;5;124m\"\u001b[39m\u001b[38;5;124mhttp.client.connect\u001b[39m\u001b[38;5;124m\"\u001b[39m, \u001b[38;5;28mself\u001b[39m, \u001b[38;5;28mself\u001b[39m\u001b[38;5;241m.\u001b[39mhost, \u001b[38;5;28mself\u001b[39m\u001b[38;5;241m.\u001b[39mport)\n\u001b[1;32m--> 941\u001b[0m \u001b[38;5;28mself\u001b[39m\u001b[38;5;241m.\u001b[39msock \u001b[38;5;241m=\u001b[39m \u001b[38;5;28;43mself\u001b[39;49m\u001b[38;5;241;43m.\u001b[39;49m\u001b[43m_create_connection\u001b[49m\u001b[43m(\u001b[49m\n\u001b[0;32m    942\u001b[0m \u001b[43m    \u001b[49m\u001b[43m(\u001b[49m\u001b[38;5;28;43mself\u001b[39;49m\u001b[38;5;241;43m.\u001b[39;49m\u001b[43mhost\u001b[49m\u001b[43m,\u001b[49m\u001b[38;5;28;43mself\u001b[39;49m\u001b[38;5;241;43m.\u001b[39;49m\u001b[43mport\u001b[49m\u001b[43m)\u001b[49m\u001b[43m,\u001b[49m\u001b[43m \u001b[49m\u001b[38;5;28;43mself\u001b[39;49m\u001b[38;5;241;43m.\u001b[39;49m\u001b[43mtimeout\u001b[49m\u001b[43m,\u001b[49m\u001b[43m \u001b[49m\u001b[38;5;28;43mself\u001b[39;49m\u001b[38;5;241;43m.\u001b[39;49m\u001b[43msource_address\u001b[49m\u001b[43m)\u001b[49m\n\u001b[0;32m    943\u001b[0m \u001b[38;5;66;03m# Might fail in OSs that don't implement TCP_NODELAY\u001b[39;00m\n",
      "File \u001b[1;32mC:\\ProgramData\\anaconda3\\lib\\socket.py:824\u001b[0m, in \u001b[0;36mcreate_connection\u001b[1;34m(address, timeout, source_address)\u001b[0m\n\u001b[0;32m    823\u001b[0m err \u001b[38;5;241m=\u001b[39m \u001b[38;5;28;01mNone\u001b[39;00m\n\u001b[1;32m--> 824\u001b[0m \u001b[38;5;28;01mfor\u001b[39;00m res \u001b[38;5;129;01min\u001b[39;00m \u001b[43mgetaddrinfo\u001b[49m\u001b[43m(\u001b[49m\u001b[43mhost\u001b[49m\u001b[43m,\u001b[49m\u001b[43m \u001b[49m\u001b[43mport\u001b[49m\u001b[43m,\u001b[49m\u001b[43m \u001b[49m\u001b[38;5;241;43m0\u001b[39;49m\u001b[43m,\u001b[49m\u001b[43m \u001b[49m\u001b[43mSOCK_STREAM\u001b[49m\u001b[43m)\u001b[49m:\n\u001b[0;32m    825\u001b[0m     af, socktype, proto, canonname, sa \u001b[38;5;241m=\u001b[39m res\n",
      "File \u001b[1;32mC:\\ProgramData\\anaconda3\\lib\\socket.py:955\u001b[0m, in \u001b[0;36mgetaddrinfo\u001b[1;34m(host, port, family, type, proto, flags)\u001b[0m\n\u001b[0;32m    954\u001b[0m addrlist \u001b[38;5;241m=\u001b[39m []\n\u001b[1;32m--> 955\u001b[0m \u001b[38;5;28;01mfor\u001b[39;00m res \u001b[38;5;129;01min\u001b[39;00m \u001b[43m_socket\u001b[49m\u001b[38;5;241;43m.\u001b[39;49m\u001b[43mgetaddrinfo\u001b[49m\u001b[43m(\u001b[49m\u001b[43mhost\u001b[49m\u001b[43m,\u001b[49m\u001b[43m \u001b[49m\u001b[43mport\u001b[49m\u001b[43m,\u001b[49m\u001b[43m \u001b[49m\u001b[43mfamily\u001b[49m\u001b[43m,\u001b[49m\u001b[43m \u001b[49m\u001b[38;5;28;43mtype\u001b[39;49m\u001b[43m,\u001b[49m\u001b[43m \u001b[49m\u001b[43mproto\u001b[49m\u001b[43m,\u001b[49m\u001b[43m \u001b[49m\u001b[43mflags\u001b[49m\u001b[43m)\u001b[49m:\n\u001b[0;32m    956\u001b[0m     af, socktype, proto, canonname, sa \u001b[38;5;241m=\u001b[39m res\n",
      "\u001b[1;31mgaierror\u001b[0m: [Errno 11001] getaddrinfo failed",
      "\nDuring handling of the above exception, another exception occurred:\n",
      "\u001b[1;31mURLError\u001b[0m                                  Traceback (most recent call last)",
      "Cell \u001b[1;32mIn[56], line 2\u001b[0m\n\u001b[0;32m      1\u001b[0m \u001b[38;5;66;03m# Your code here\u001b[39;00m\n\u001b[1;32m----> 2\u001b[0m links\u001b[38;5;241m=\u001b[39m\u001b[43mget_links\u001b[49m\u001b[43m(\u001b[49m\u001b[38;5;124;43m\"\u001b[39;49m\u001b[38;5;124;43mhttps://en.wikipedia.org/wiki/SpaceX\u001b[39;49m\u001b[38;5;124;43m\"\u001b[39;49m\u001b[43m)\u001b[49m\n",
      "Cell \u001b[1;32mIn[45], line 2\u001b[0m, in \u001b[0;36mget_links\u001b[1;34m(article_url)\u001b[0m\n\u001b[0;32m      1\u001b[0m \u001b[38;5;28;01mdef\u001b[39;00m \u001b[38;5;21mget_links\u001b[39m(article_url):                                     \u001b[38;5;66;03m# Create function to extract links from a given Wiki page\u001b[39;00m\n\u001b[1;32m----> 2\u001b[0m     html_page \u001b[38;5;241m=\u001b[39m \u001b[43murlopen\u001b[49m\u001b[43m(\u001b[49m\u001b[38;5;124;43m\"\u001b[39;49m\u001b[38;5;124;43mhttp://en.wikipedia.org\u001b[39;49m\u001b[38;5;124;43m\"\u001b[39;49m\u001b[38;5;241;43m+\u001b[39;49m\u001b[43marticle_url\u001b[49m\u001b[43m)\u001b[49m  \u001b[38;5;66;03m# Opens whatever page we are requesting\u001b[39;00m\n\u001b[0;32m      3\u001b[0m     bs_obj \u001b[38;5;241m=\u001b[39m BeautifulSoup(html_page, \u001b[38;5;124m'\u001b[39m\u001b[38;5;124mhtml.parser\u001b[39m\u001b[38;5;124m'\u001b[39m)            \u001b[38;5;66;03m# Saves the html in a Beautiful Soup object\u001b[39;00m\n\u001b[0;32m      5\u001b[0m     \u001b[38;5;66;03m# The next line finds specific HTML elements in the page we opened - notice the familiar tags and properties\u001b[39;00m\n",
      "File \u001b[1;32mC:\\ProgramData\\anaconda3\\lib\\urllib\\request.py:216\u001b[0m, in \u001b[0;36murlopen\u001b[1;34m(url, data, timeout, cafile, capath, cadefault, context)\u001b[0m\n\u001b[0;32m    214\u001b[0m \u001b[38;5;28;01melse\u001b[39;00m:\n\u001b[0;32m    215\u001b[0m     opener \u001b[38;5;241m=\u001b[39m _opener\n\u001b[1;32m--> 216\u001b[0m \u001b[38;5;28;01mreturn\u001b[39;00m \u001b[43mopener\u001b[49m\u001b[38;5;241;43m.\u001b[39;49m\u001b[43mopen\u001b[49m\u001b[43m(\u001b[49m\u001b[43murl\u001b[49m\u001b[43m,\u001b[49m\u001b[43m \u001b[49m\u001b[43mdata\u001b[49m\u001b[43m,\u001b[49m\u001b[43m \u001b[49m\u001b[43mtimeout\u001b[49m\u001b[43m)\u001b[49m\n",
      "File \u001b[1;32mC:\\ProgramData\\anaconda3\\lib\\urllib\\request.py:519\u001b[0m, in \u001b[0;36mOpenerDirector.open\u001b[1;34m(self, fullurl, data, timeout)\u001b[0m\n\u001b[0;32m    516\u001b[0m     req \u001b[38;5;241m=\u001b[39m meth(req)\n\u001b[0;32m    518\u001b[0m sys\u001b[38;5;241m.\u001b[39maudit(\u001b[38;5;124m'\u001b[39m\u001b[38;5;124murllib.Request\u001b[39m\u001b[38;5;124m'\u001b[39m, req\u001b[38;5;241m.\u001b[39mfull_url, req\u001b[38;5;241m.\u001b[39mdata, req\u001b[38;5;241m.\u001b[39mheaders, req\u001b[38;5;241m.\u001b[39mget_method())\n\u001b[1;32m--> 519\u001b[0m response \u001b[38;5;241m=\u001b[39m \u001b[38;5;28;43mself\u001b[39;49m\u001b[38;5;241;43m.\u001b[39;49m\u001b[43m_open\u001b[49m\u001b[43m(\u001b[49m\u001b[43mreq\u001b[49m\u001b[43m,\u001b[49m\u001b[43m \u001b[49m\u001b[43mdata\u001b[49m\u001b[43m)\u001b[49m\n\u001b[0;32m    521\u001b[0m \u001b[38;5;66;03m# post-process response\u001b[39;00m\n\u001b[0;32m    522\u001b[0m meth_name \u001b[38;5;241m=\u001b[39m protocol\u001b[38;5;241m+\u001b[39m\u001b[38;5;124m\"\u001b[39m\u001b[38;5;124m_response\u001b[39m\u001b[38;5;124m\"\u001b[39m\n",
      "File \u001b[1;32mC:\\ProgramData\\anaconda3\\lib\\urllib\\request.py:536\u001b[0m, in \u001b[0;36mOpenerDirector._open\u001b[1;34m(self, req, data)\u001b[0m\n\u001b[0;32m    533\u001b[0m     \u001b[38;5;28;01mreturn\u001b[39;00m result\n\u001b[0;32m    535\u001b[0m protocol \u001b[38;5;241m=\u001b[39m req\u001b[38;5;241m.\u001b[39mtype\n\u001b[1;32m--> 536\u001b[0m result \u001b[38;5;241m=\u001b[39m \u001b[38;5;28;43mself\u001b[39;49m\u001b[38;5;241;43m.\u001b[39;49m\u001b[43m_call_chain\u001b[49m\u001b[43m(\u001b[49m\u001b[38;5;28;43mself\u001b[39;49m\u001b[38;5;241;43m.\u001b[39;49m\u001b[43mhandle_open\u001b[49m\u001b[43m,\u001b[49m\u001b[43m \u001b[49m\u001b[43mprotocol\u001b[49m\u001b[43m,\u001b[49m\u001b[43m \u001b[49m\u001b[43mprotocol\u001b[49m\u001b[43m \u001b[49m\u001b[38;5;241;43m+\u001b[39;49m\n\u001b[0;32m    537\u001b[0m \u001b[43m                          \u001b[49m\u001b[38;5;124;43m'\u001b[39;49m\u001b[38;5;124;43m_open\u001b[39;49m\u001b[38;5;124;43m'\u001b[39;49m\u001b[43m,\u001b[49m\u001b[43m \u001b[49m\u001b[43mreq\u001b[49m\u001b[43m)\u001b[49m\n\u001b[0;32m    538\u001b[0m \u001b[38;5;28;01mif\u001b[39;00m result:\n\u001b[0;32m    539\u001b[0m     \u001b[38;5;28;01mreturn\u001b[39;00m result\n",
      "File \u001b[1;32mC:\\ProgramData\\anaconda3\\lib\\urllib\\request.py:496\u001b[0m, in \u001b[0;36mOpenerDirector._call_chain\u001b[1;34m(self, chain, kind, meth_name, *args)\u001b[0m\n\u001b[0;32m    494\u001b[0m \u001b[38;5;28;01mfor\u001b[39;00m handler \u001b[38;5;129;01min\u001b[39;00m handlers:\n\u001b[0;32m    495\u001b[0m     func \u001b[38;5;241m=\u001b[39m \u001b[38;5;28mgetattr\u001b[39m(handler, meth_name)\n\u001b[1;32m--> 496\u001b[0m     result \u001b[38;5;241m=\u001b[39m \u001b[43mfunc\u001b[49m\u001b[43m(\u001b[49m\u001b[38;5;241;43m*\u001b[39;49m\u001b[43margs\u001b[49m\u001b[43m)\u001b[49m\n\u001b[0;32m    497\u001b[0m     \u001b[38;5;28;01mif\u001b[39;00m result \u001b[38;5;129;01mis\u001b[39;00m \u001b[38;5;129;01mnot\u001b[39;00m \u001b[38;5;28;01mNone\u001b[39;00m:\n\u001b[0;32m    498\u001b[0m         \u001b[38;5;28;01mreturn\u001b[39;00m result\n",
      "File \u001b[1;32mC:\\ProgramData\\anaconda3\\lib\\urllib\\request.py:1377\u001b[0m, in \u001b[0;36mHTTPHandler.http_open\u001b[1;34m(self, req)\u001b[0m\n\u001b[0;32m   1376\u001b[0m \u001b[38;5;28;01mdef\u001b[39;00m \u001b[38;5;21mhttp_open\u001b[39m(\u001b[38;5;28mself\u001b[39m, req):\n\u001b[1;32m-> 1377\u001b[0m     \u001b[38;5;28;01mreturn\u001b[39;00m \u001b[38;5;28;43mself\u001b[39;49m\u001b[38;5;241;43m.\u001b[39;49m\u001b[43mdo_open\u001b[49m\u001b[43m(\u001b[49m\u001b[43mhttp\u001b[49m\u001b[38;5;241;43m.\u001b[39;49m\u001b[43mclient\u001b[49m\u001b[38;5;241;43m.\u001b[39;49m\u001b[43mHTTPConnection\u001b[49m\u001b[43m,\u001b[49m\u001b[43m \u001b[49m\u001b[43mreq\u001b[49m\u001b[43m)\u001b[49m\n",
      "File \u001b[1;32mC:\\ProgramData\\anaconda3\\lib\\urllib\\request.py:1351\u001b[0m, in \u001b[0;36mAbstractHTTPHandler.do_open\u001b[1;34m(self, http_class, req, **http_conn_args)\u001b[0m\n\u001b[0;32m   1348\u001b[0m         h\u001b[38;5;241m.\u001b[39mrequest(req\u001b[38;5;241m.\u001b[39mget_method(), req\u001b[38;5;241m.\u001b[39mselector, req\u001b[38;5;241m.\u001b[39mdata, headers,\n\u001b[0;32m   1349\u001b[0m                   encode_chunked\u001b[38;5;241m=\u001b[39mreq\u001b[38;5;241m.\u001b[39mhas_header(\u001b[38;5;124m'\u001b[39m\u001b[38;5;124mTransfer-encoding\u001b[39m\u001b[38;5;124m'\u001b[39m))\n\u001b[0;32m   1350\u001b[0m     \u001b[38;5;28;01mexcept\u001b[39;00m \u001b[38;5;167;01mOSError\u001b[39;00m \u001b[38;5;28;01mas\u001b[39;00m err: \u001b[38;5;66;03m# timeout error\u001b[39;00m\n\u001b[1;32m-> 1351\u001b[0m         \u001b[38;5;28;01mraise\u001b[39;00m URLError(err)\n\u001b[0;32m   1352\u001b[0m     r \u001b[38;5;241m=\u001b[39m h\u001b[38;5;241m.\u001b[39mgetresponse()\n\u001b[0;32m   1353\u001b[0m \u001b[38;5;28;01mexcept\u001b[39;00m:\n",
      "\u001b[1;31mURLError\u001b[0m: <urlopen error [Errno 11001] getaddrinfo failed>"
     ]
    }
   ],
   "source": [
    "# Your code here\n",
    "links=get_links(\"https://en.wikipedia.org/wiki/SpaceX\")  # Call to function created above"
   ]
  },
  {
   "cell_type": "markdown",
   "metadata": {},
   "source": [
    "#### <u>Scrape an image from this page</u>\n",
    "* Find the main picture from this Wikipedia page and display it in this notebook"
   ]
  },
  {
   "cell_type": "code",
   "execution_count": null,
   "metadata": {},
   "outputs": [],
   "source": [
    "# Your code here\n"
   ]
  },
  {
   "cell_type": "markdown",
   "metadata": {},
   "source": [
    "#### <u>Start your own web crawl</u>\n",
    "* Run code to crawl through pages based on links that are found on the wiki pages\n",
    "* Start with your chosen wiki page, then run a loop 20 times to open a random link from each new webpage\n",
    "* Display all links and images found\n",
    "\n",
    "*Hints:*\n",
    "   * Only one change is needed from the code we used above to crawl from FHS's wiki! \n",
    "   * Change 'links' to be your list of links you created just above"
   ]
  },
  {
   "cell_type": "code",
   "execution_count": null,
   "metadata": {},
   "outputs": [],
   "source": [
    "# Your code here\n"
   ]
  },
  {
   "cell_type": "markdown",
   "metadata": {},
   "source": [
    "### <u>Answer the Following Wrap-up Questions:</u>  \n",
    "\n",
    "**<u>Question 6:</u>**  What is web scraping? \n",
    "\n",
    "*Hint: Read https://en.wikipedia.org/wiki/Web_scraping*\n",
    "\n",
    "**<u>Your Answer:</u>** "
   ]
  },
  {
   "cell_type": "markdown",
   "metadata": {
    "collapsed": true
   },
   "source": [
    "**<u>Question 7:</u>**  What is web crawling? \n",
    "\n",
    "*Hint: Read https://en.wikipedia.org/wiki/Web_crawler*\n",
    "\n",
    "**<u>Your Answer:</u>** "
   ]
  },
  {
   "cell_type": "markdown",
   "metadata": {},
   "source": [
    "**<u>Question 8:</u>** What is the difference between web scraping and web crawling?  \n",
    "\n",
    "**<u>Your Answer:</u>** \n"
   ]
  },
  {
   "cell_type": "code",
   "execution_count": null,
   "metadata": {},
   "outputs": [],
   "source": []
  }
 ],
 "metadata": {
  "anaconda-cloud": {},
  "kernelspec": {
   "display_name": "Python 3 (ipykernel)",
   "language": "python",
   "name": "python3"
  },
  "language_info": {
   "codemirror_mode": {
    "name": "ipython",
    "version": 3
   },
   "file_extension": ".py",
   "mimetype": "text/x-python",
   "name": "python",
   "nbconvert_exporter": "python",
   "pygments_lexer": "ipython3",
   "version": "3.10.9"
  }
 },
 "nbformat": 4,
 "nbformat_minor": 1
}
